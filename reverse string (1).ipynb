{
 "cells": [
  {
   "cell_type": "code",
   "execution_count": 1,
   "id": "c67aac54-61a3-44c1-8530-24dfd5eae6a1",
   "metadata": {},
   "outputs": [
    {
     "name": "stdout",
     "output_type": "stream",
     "text": [
      "U\n",
      "R\n",
      "U\n",
      "L\n",
      "A\n",
      "G\n",
      "N\n",
      "E\n",
      "B\n"
     ]
    }
   ],
   "source": [
    "x=\"BENGALURU\"\n",
    "for i in x[::-1]:\n",
    "    print(i)"
   ]
  }
 ],
 "metadata": {
  "kernelspec": {
   "display_name": "Python 3 (ipykernel)",
   "language": "python",
   "name": "python3"
  },
  "language_info": {
   "codemirror_mode": {
    "name": "ipython",
    "version": 3
   },
   "file_extension": ".py",
   "mimetype": "text/x-python",
   "name": "python",
   "nbconvert_exporter": "python",
   "pygments_lexer": "ipython3",
   "version": "3.12.4"
  }
 },
 "nbformat": 4,
 "nbformat_minor": 5
}
