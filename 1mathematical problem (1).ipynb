{
 "cells": [
  {
   "cell_type": "code",
   "execution_count": 10,
   "id": "eb80633d-df6e-4e4b-a33e-4fc525be1e77",
   "metadata": {},
   "outputs": [
    {
     "name": "stdin",
     "output_type": "stream",
     "text": [
      " 55\n"
     ]
    },
    {
     "name": "stdout",
     "output_type": "stream",
     "text": [
      "131.0\n",
      "328.15\n"
     ]
    }
   ],
   "source": [
    "cel=float(input());\n",
    "faren=cel*9/5+32;\n",
    "kel=cel+273.15\n",
    "print(faren)\n",
    "print(kel)\n"
   ]
  },
  {
   "cell_type": "code",
   "execution_count": 7,
   "id": "1a528290-29f4-42e7-88c9-6d6e14be0a5d",
   "metadata": {},
   "outputs": [
    {
     "name": "stdout",
     "output_type": "stream",
     "text": [
      "7326.0\n"
     ]
    }
   ],
   "source": [
    "x=5*99*(3+0.7)*8/2;\n",
    "print(x)\n"
   ]
  },
  {
   "cell_type": "code",
   "execution_count": 12,
   "id": "e23bfc40-fe1d-46fe-af89-b2c16c1caded",
   "metadata": {},
   "outputs": [
    {
     "name": "stdout",
     "output_type": "stream",
     "text": [
      "186.20000000000002\n"
     ]
    }
   ],
   "source": [
    "y=7+7*(8*8*2/5);\n",
    "print(y)\n"
   ]
  },
  {
   "cell_type": "code",
   "execution_count": 11,
   "id": "a11638a5-cca1-43f6-a822-113756888a16",
   "metadata": {},
   "outputs": [
    {
     "name": "stdout",
     "output_type": "stream",
     "text": [
      "100.0\n"
     ]
    }
   ],
   "source": [
    "z=(7*3+4)*(8/2)\n",
    "print(z)\n"
   ]
  },
  {
   "cell_type": "code",
   "execution_count": null,
   "id": "8bb1fc98-c033-41d5-ad2b-69985017ce37",
   "metadata": {},
   "outputs": [],
   "source": []
  },
  {
   "cell_type": "code",
   "execution_count": 1,
   "id": "d8af6998-ade9-46ea-aada-56edb3cd1cef",
   "metadata": {},
   "outputs": [
    {
     "name": "stdout",
     "output_type": "stream",
     "text": [
      "o\n"
     ]
    }
   ],
   "source": [
    "a='Hello'\n",
    "print(a[-1])"
   ]
  },
  {
   "cell_type": "code",
   "execution_count": 5,
   "id": "7d11eeee-bf6d-4c2b-b387-9a891d36aaf9",
   "metadata": {},
   "outputs": [
    {
     "name": "stdout",
     "output_type": "stream",
     "text": [
      "He\n",
      "llo World\n",
      "Hello Wor\n",
      "ld\n"
     ]
    }
   ],
   "source": [
    "a=\"Hello World\"\n",
    "print(a[:2])\n",
    "print(a[2:])\n",
    "print(a[:-2])\n",
    "print(a[-2:])"
   ]
  },
  {
   "cell_type": "code",
   "execution_count": null,
   "id": "2f30fe15-869d-4e9c-9bca-8f8595bf0609",
   "metadata": {},
   "outputs": [],
   "source": []
  },
  {
   "cell_type": "code",
   "execution_count": 1,
   "id": "b8e31614-8177-49b3-9e74-beef16faa749",
   "metadata": {},
   "outputs": [
    {
     "name": "stdout",
     "output_type": "stream",
     "text": [
      "20\n",
      "10\n"
     ]
    }
   ],
   "source": [
    "a=10\n",
    "b=20\n",
    "temp=a\n",
    "a=b\n",
    "b=temp\n",
    "print(a)\n",
    "print(b) #using third/temporary variable\n"
   ]
  },
  {
   "cell_type": "code",
   "execution_count": 3,
   "id": "caa82df6-9b39-4eeb-88f4-a5d189b788c6",
   "metadata": {},
   "outputs": [
    {
     "name": "stdout",
     "output_type": "stream",
     "text": [
      "a= 20\n",
      "b= 10\n"
     ]
    }
   ],
   "source": [
    "a=10\n",
    "b=20\n",
    "a=a+b\n",
    "b=a-b\n",
    "a=a-b\n",
    "print('a=',a)\n",
    "print('b=',b)#using arithmetic operators"
   ]
  },
  {
   "cell_type": "code",
   "execution_count": 4,
   "id": "15980739-c830-4244-8993-ea871cbea515",
   "metadata": {},
   "outputs": [
    {
     "name": "stdout",
     "output_type": "stream",
     "text": [
      "20\n",
      "10\n"
     ]
    }
   ],
   "source": [
    "a=10\n",
    "b=20\n",
    "a=a^b\n",
    "b=a^b\n",
    "a=a^b\n",
    "\n",
    "print(a)\n",
    "print(b)  #using bitwise opertor"
   ]
  },
  {
   "cell_type": "code",
   "execution_count": 5,
   "id": "56b7e3d1-e491-4385-bb7b-3803d91e98a4",
   "metadata": {},
   "outputs": [
    {
     "name": "stdout",
     "output_type": "stream",
     "text": [
      "20\n",
      "10\n"
     ]
    }
   ],
   "source": [
    "a=10\n",
    "b=20\n",
    "a=a*b\n",
    "b=a//b\n",
    "a=a//b\n",
    "print(a)\n",
    "print(b)#using arithmetic operator "
   ]
  },
  {
   "cell_type": "code",
   "execution_count": 9,
   "id": "7a1ea6be-b366-402b-96a5-bb721b225499",
   "metadata": {},
   "outputs": [
    {
     "name": "stdin",
     "output_type": "stream",
     "text": [
      " 2\n",
      " 4\n",
      " 10\n",
      " 15\n"
     ]
    },
    {
     "name": "stdout",
     "output_type": "stream",
     "text": [
      "mid point: 6.0 9.5\n"
     ]
    }
   ],
   "source": [
    "x1=int(input())\n",
    "y1=int(input())\n",
    "x2=int(input())\n",
    "y2=int(input())\n",
    "mid_x=(x1+x2)/2\n",
    "mid_y=(y1+y2)/2\n",
    "print(f\"mid point:\",mid_x,mid_y)  \n"
   ]
  },
  {
   "cell_type": "code",
   "execution_count": 13,
   "id": "565d2387-6646-4f13-81e2-38eda9a48392",
   "metadata": {},
   "outputs": [
    {
     "name": "stdin",
     "output_type": "stream",
     "text": [
      " 50\n",
      " 1.6\n"
     ]
    },
    {
     "name": "stdout",
     "output_type": "stream",
     "text": [
      "19.531249999999996\n"
     ]
    }
   ],
   "source": [
    "w=float(input())\n",
    "h=float(input())\n",
    "bmi=w/(h**2)#BMI formula us\n",
    "print(bmi)"
   ]
  },
  {
   "cell_type": "code",
   "execution_count": 10,
   "id": "b6d6f2f3-ee3b-48c6-bf55-83fe894c34e2",
   "metadata": {},
   "outputs": [
    {
     "name": "stdout",
     "output_type": "stream",
     "text": [
      "He\n",
      "llo World\n",
      "Hello Wor\n",
      "ld\n",
      "ell\n",
      "ello\n",
      "ello Wor\n"
     ]
    }
   ],
   "source": [
    "a=\"Hello World\"\n",
    "print(a[:2])\n",
    "print(a[2:])\n",
    "print(a[:-2])\n",
    "print(a[-2:])\n",
    "print(a[1:4])\n",
    "print(a[1:5])\n",
    "print(a[1:-2])"
   ]
  },
  {
   "cell_type": "code",
   "execution_count": 17,
   "id": "aa6ef78f-924f-4563-97b9-ba2f8e9e188e",
   "metadata": {},
   "outputs": [
    {
     "name": "stdout",
     "output_type": "stream",
     "text": [
      "dlrow olleH\n",
      "drwolH\n",
      "Hlowrd\n",
      "ld\n",
      "dwl\n",
      "Hlowrd\n"
     ]
    }
   ],
   "source": [
    "str=\"Hello world\" \n",
    "print(str[::-1])#index value\n",
    "print(str[::-2])\n",
    "print(str[::2])\n",
    "print(str[-2::])\n",
    "print(str[::-4])\n",
    "print(str[0:11:2])"
   ]
  },
  {
   "cell_type": "code",
   "execution_count": 20,
   "id": "7e5d3b0d-d3a4-478f-b2df-e598821862ae",
   "metadata": {},
   "outputs": [
    {
     "data": {
      "text/plain": [
       "'chunnuchunnumunnu'"
      ]
     },
     "execution_count": 20,
     "metadata": {},
     "output_type": "execute_result"
    }
   ],
   "source": [
    "2*'chunnu'+'munnu'"
   ]
  },
  {
   "cell_type": "code",
   "execution_count": 21,
   "id": "ccdfc3d8-8caa-48a7-a043-d5295472832c",
   "metadata": {},
   "outputs": [
    {
     "data": {
      "text/plain": [
       "'python'"
      ]
     },
     "execution_count": 21,
     "metadata": {},
     "output_type": "execute_result"
    }
   ],
   "source": [
    "'py''thon'"
   ]
  },
  {
   "cell_type": "code",
   "execution_count": 25,
   "id": "30787c1b-d4b1-4724-9bc4-f26f7d2958d1",
   "metadata": {},
   "outputs": [
    {
     "name": "stdout",
     "output_type": "stream",
     "text": [
      "321\n"
     ]
    }
   ],
   "source": [
    "a=\"123\"\n",
    "print(a[::-1])"
   ]
  },
  {
   "cell_type": "code",
   "execution_count": 2,
   "id": "4e159039-d476-4a85-a905-8d984e7e137a",
   "metadata": {},
   "outputs": [
    {
     "name": "stdin",
     "output_type": "stream",
     "text": [
      " 2\n",
      " 7.5\n"
     ]
    },
    {
     "name": "stdout",
     "output_type": "stream",
     "text": [
      "11.25\n"
     ]
    }
   ],
   "source": [
    "#26/09\n",
    "n_items = int(input())\n",
    "single_item_Htime = float(input())\n",
    "\n",
    "if n_items == 1:\n",
    "    r_time = single_item_Htime\n",
    "elif n_items == 2:\n",
    "    r_time = single_item_Htime * 1.5\n",
    "elif n_items == 3:\n",
    "    r_time == single_item_Htime * 2\n",
    "else:\n",
    "    print(\"Number of items is more\")\n",
    "print(r_time)"
   ]
  },
  {
   "cell_type": "code",
   "execution_count": 4,
   "id": "fac3318c-daf3-4da3-a1e0-734be75e87f8",
   "metadata": {},
   "outputs": [
    {
     "name": "stdout",
     "output_type": "stream",
     "text": [
      "1\n",
      "2\n",
      "3\n",
      "4\n",
      "5\n"
     ]
    }
   ],
   "source": [
    "#for loop\n",
    "for  a in \"12345\":\n",
    "    print(a)"
   ]
  },
  {
   "cell_type": "code",
   "execution_count": 6,
   "id": "7513932c-6b09-4498-aad5-1272108447aa",
   "metadata": {},
   "outputs": [
    {
     "name": "stdout",
     "output_type": "stream",
     "text": [
      "0\n",
      "1\n",
      "2\n",
      "3\n",
      "4\n",
      "5\n"
     ]
    }
   ],
   "source": [
    "for i in range(6):\n",
    "    print(i)"
   ]
  },
  {
   "cell_type": "code",
   "execution_count": 12,
   "id": "7af95712-eb13-4913-b540-843838461eab",
   "metadata": {},
   "outputs": [
    {
     "name": "stdout",
     "output_type": "stream",
     "text": [
      "a 1\n",
      "a 3\n",
      "a 5\n",
      "a 7\n",
      "a 9\n",
      "a 11\n",
      "a 13\n",
      "a 15\n",
      "a 17\n",
      "a 19\n",
      "a 21\n",
      "a 23\n",
      "a 25\n"
     ]
    }
   ],
   "source": [
    "for a in range(26):\n",
    "    if a %2!=0:\n",
    "         print(\"a\",a)\n"
   ]
  },
  {
   "cell_type": "code",
   "execution_count": 13,
   "id": "27a81aba-9c60-4daf-8a94-35e95de573ee",
   "metadata": {},
   "outputs": [
    {
     "name": "stdout",
     "output_type": "stream",
     "text": [
      "35\n"
     ]
    }
   ],
   "source": [
    "X=\"Peter Piper picked a peck of pickled peppers. A peck of pickled peppers Peter Piper picked. If Peter Piper picked a peck of pickled peppers, Where's the peck of pickled peppers Peter Piper picked?\"\n",
    "print(X.count('e'))"
   ]
  },
  {
   "cell_type": "code",
   "execution_count": 3,
   "id": "0837371f-a3be-4aa7-9bc9-baff05977f9b",
   "metadata": {},
   "outputs": [
    {
     "name": "stdin",
     "output_type": "stream",
     "text": [
      "Enter Your Age =  16\n",
      "Enter timing =  10.15\n"
     ]
    },
    {
     "name": "stdout",
     "output_type": "stream",
     "text": [
      "Your price is $8.00\n"
     ]
    }
   ],
   "source": [
    "age = int(input(\"Enter Your Age = \"))\n",
    "time = float(input(\"Enter timing = \"))\n",
    "\n",
    "if age > 13:\n",
    "    if time == 10.15 or time == 13.30:\n",
    "        print(\"Your price is $8.00\")\n",
    "    elif time == 18.00 or time == 22.00:\n",
    "        print(\"Your price is $5.00\")\n",
    "elif age <= 13:  \n",
    "    if time == 10.15 or time == 13.30:\n",
    "        print(\"Your price is $4.00\")\n",
    "    elif time == 18.00 or time == 22.00:\n",
    "        print(\"Your price is $2.00\")"
   ]
  },
  {
   "cell_type": "code",
   "execution_count": 13,
   "id": "01d11623-2832-45e3-9da0-2bba3f67ae3d",
   "metadata": {},
   "outputs": [
    {
     "name": "stdin",
     "output_type": "stream",
     "text": [
      "Enter your birth year 93\n",
      "Enter Current year 24\n"
     ]
    },
    {
     "name": "stdout",
     "output_type": "stream",
     "text": [
      "31\n"
     ]
    }
   ],
   "source": [
    "b_yr = int(input(\"Enter your birth year\"))\n",
    "c_yr = int(input(\"Enter Current year\"))\n",
    "\n",
    "age = c_yr - b_yr\n",
    "\n",
    "if c_yr < b_yr:\n",
    "    age += 100\n",
    "    print(age)\n",
    "else:\n",
    "    print(age)"
   ]
  },
  {
   "cell_type": "code",
   "execution_count": null,
   "id": "3a4492ad-2e2c-4c9f-a305-9785110a8532",
   "metadata": {},
   "outputs": [],
   "source": [
    "for i in range(1,6)\n"
   ]
  }
 ],
 "metadata": {
  "kernelspec": {
   "display_name": "Python 3 (ipykernel)",
   "language": "python",
   "name": "python3"
  },
  "language_info": {
   "codemirror_mode": {
    "name": "ipython",
    "version": 3
   },
   "file_extension": ".py",
   "mimetype": "text/x-python",
   "name": "python",
   "nbconvert_exporter": "python",
   "pygments_lexer": "ipython3",
   "version": "3.12.4"
  }
 },
 "nbformat": 4,
 "nbformat_minor": 5
}
