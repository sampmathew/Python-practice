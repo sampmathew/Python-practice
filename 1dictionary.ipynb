{
 "cells": [
  {
   "cell_type": "code",
   "execution_count": 1,
   "id": "8c6e58a4-665f-4f3f-9135-b2760f63a41f",
   "metadata": {},
   "outputs": [
    {
     "name": "stdin",
     "output_type": "stream",
     "text": [
      "Enter a number:  5\n"
     ]
    },
    {
     "name": "stdout",
     "output_type": "stream",
     "text": [
      "5 is odd.\n"
     ]
    }
   ],
   "source": [
    "number = int(input(\"Enter a number: \"))\n",
    "\n",
    "if number % 2 == 0:\n",
    "    print(f\"{number} is even.\")\n",
    "else:\n",
    "    print(f\"{number} is odd.\")"
   ]
  },
  {
   "cell_type": "code",
   "execution_count": 4,
   "id": "5397e55b-58bb-4e30-8cba-58e0ee95ac0e",
   "metadata": {},
   "outputs": [
    {
     "name": "stdout",
     "output_type": "stream",
     "text": [
      "New dictionary with ages as keys and names as values:\n",
      "{25: ['Alice', 'Charlie'], 20: ['Eve'], 30: ['Bob', 'David']}\n"
     ]
    }
   ],
   "source": [
    "names_ages = {\"sri\": 25, \"hari\": 30, \"Ram\": 25}\n",
    "\n",
    "\n",
    "age_to_names = {age: [name for name in names_and_ages if names_and_ages[name] == age] for age in set(names_and_ages.values())}\n",
    "\n",
    "\n",
    "print(\"New dictionary with ages as keys and names as values:\")\n",
    "print(age_to_names)"
   ]
  },
  {
   "cell_type": "code",
   "execution_count": 5,
   "id": "eae4f55e-237d-4a30-b0d4-b4fdd6d37571",
   "metadata": {},
   "outputs": [
    {
     "name": "stdin",
     "output_type": "stream",
     "text": [
      "Enter the first number:  5\n",
      "Enter the second number:  6\n",
      "Enter the third number:  2\n"
     ]
    },
    {
     "name": "stdout",
     "output_type": "stream",
     "text": [
      "The maximum of the three numbers is: 6.0\n"
     ]
    }
   ],
   "source": [
    "def find_maximum(a, b, c):\n",
    "   \n",
    "    if a >= b and a >= c:\n",
    "        return a\n",
    "    elif b >= a and b >= c:\n",
    "        return b\n",
    "    else:\n",
    "        return c\n",
    "\n",
    "\n",
    "num1 = float(input(\"Enter the first number: \"))\n",
    "num2 = float(input(\"Enter the second number: \"))\n",
    "num3 = float(input(\"Enter the third number: \"))\n",
    "\n",
    "print(f\"The maximum of the three numbers is: {find_maximum(num1, num2, num3)}\")"
   ]
  }
 ],
 "metadata": {
  "kernelspec": {
   "display_name": "Python 3 (ipykernel)",
   "language": "python",
   "name": "python3"
  },
  "language_info": {
   "codemirror_mode": {
    "name": "ipython",
    "version": 3
   },
   "file_extension": ".py",
   "mimetype": "text/x-python",
   "name": "python",
   "nbconvert_exporter": "python",
   "pygments_lexer": "ipython3",
   "version": "3.12.4"
  }
 },
 "nbformat": 4,
 "nbformat_minor": 5
}
