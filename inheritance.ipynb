{
 "cells": [
  {
   "cell_type": "code",
   "execution_count": 1,
   "id": "3f4d7823",
   "metadata": {},
   "outputs": [
    {
     "name": "stdout",
     "output_type": "stream",
     "text": [
      "Enter your name: Osama Bin Laden\n",
      "Enter your staff ID: 568\n",
      "Enter the number of days worked: 5\n",
      "Enter the number of hours worked per day: 9\n",
      "\n",
      "--- Temporary Staff Details ---\n",
      "Name: Osama Bin Laden\n",
      "Staff ID: 568\n",
      "Days Worked: 5\n",
      "Hours Per Day: 9\n",
      "Total Salary Earned: 6750 INR\n"
     ]
    }
   ],
   "source": [
    "class Person:\n",
    "    def __init__(self, name):\n",
    "        self.name = name\n",
    "\n",
    "    def display(self):\n",
    "        print(f\"Name: {self.name}\")\n",
    "\n",
    "\n",
    "class Staff(Person):\n",
    "    def __init__(self, name, staff_id):\n",
    "        super().__init__(name)\n",
    "        self.staff_id = staff_id\n",
    "\n",
    "    def display(self):\n",
    "        super().display()\n",
    "        print(f\"Staff ID: {self.staff_id}\")\n",
    "\n",
    "\n",
    "class TemporaryStaff(Staff):\n",
    "    def __init__(self, name, staff_id, days_worked, hours_per_day):\n",
    "        super().__init__(name, staff_id)\n",
    "        self.days_worked = days_worked\n",
    "        self.hours_per_day = hours_per_day\n",
    "\n",
    "    def salary(self):\n",
    "        total_hours = self.days_worked * self.hours_per_day\n",
    "        total_salary = total_hours * 150\n",
    "        return total_salary\n",
    "\n",
    "    def display(self):\n",
    "        super().display()\n",
    "        print(f\"Days Worked: {self.days_worked}\")\n",
    "        print(f\"Hours Per Day: {self.hours_per_day}\")\n",
    "        print(f\"Total Salary Earned: {self.salary()} INR\")\n",
    "\n",
    "\n",
    "if __name__ == \"__main__\":\n",
    "    name = input(\"Enter your name: \")\n",
    "    staff_id = input(\"Enter your staff ID: \")\n",
    "    days_worked = int(input(\"Enter the number of days worked: \"))\n",
    "    hours_per_day = int(input(\"Enter the number of hours worked per day: \"))\n",
    "\n",
    "    temp_staff = TemporaryStaff(name, staff_id, days_worked, hours_per_day)\n",
    "    print(\"\\n--- Temporary Staff Details ---\")\n",
    "    temp_staff.display()\n"
   ]
  }
 ],
 "metadata": {
  "kernelspec": {
   "display_name": "Python 3 (ipykernel)",
   "language": "python",
   "name": "python3"
  },
  "language_info": {
   "codemirror_mode": {
    "name": "ipython",
    "version": 3
   },
   "file_extension": ".py",
   "mimetype": "text/x-python",
   "name": "python",
   "nbconvert_exporter": "python",
   "pygments_lexer": "ipython3",
   "version": "3.11.5"
  }
 },
 "nbformat": 4,
 "nbformat_minor": 5
}
