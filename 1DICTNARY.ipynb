{
 "cells": [
  {
   "cell_type": "code",
   "execution_count": 1,
   "id": "b229ae8e-3d83-4e52-aa4e-ed6bca5998c5",
   "metadata": {},
   "outputs": [
    {
     "name": "stdout",
     "output_type": "stream",
     "text": [
      "{}\n"
     ]
    }
   ],
   "source": [
    "dic={}\n",
    "print(dic)"
   ]
  },
  {
   "cell_type": "code",
   "execution_count": 2,
   "id": "4b9d158a-c2c1-423a-a5cd-ce1ad6a66e97",
   "metadata": {},
   "outputs": [
    {
     "data": {
      "text/plain": [
       "{1: 'Focus', 2: 'Academy', 3: 'for', 4: 'Career', 5: 'Enhancement'}"
      ]
     },
     "execution_count": 2,
     "metadata": {},
     "output_type": "execute_result"
    }
   ],
   "source": [
    "dic={1:\"Focus\", 2:\"Academy\", 3:\"for\", 4:\"Career\", 5:\"Enhancement\"}\n",
    "dic"
   ]
  },
  {
   "cell_type": "code",
   "execution_count": 4,
   "id": "9b3a8d3e-653c-49e6-a628-948e5fde9175",
   "metadata": {},
   "outputs": [
    {
     "data": {
      "text/plain": [
       "{1: 2, 'Name': 'FACE', 4: 5}"
      ]
     },
     "execution_count": 4,
     "metadata": {},
     "output_type": "execute_result"
    }
   ],
   "source": [
    "dic=dict([(1,2),(\"Name\",\"FACE\"),(4,5)])\n",
    "dic"
   ]
  },
  {
   "cell_type": "code",
   "execution_count": 5,
   "id": "c5943ccf-241f-424a-95ba-b98bc8061980",
   "metadata": {},
   "outputs": [
    {
     "data": {
      "text/plain": [
       "{1: 'FACE', 2: 4, 3: {5: 'hello', 6: 9.5}}"
      ]
     },
     "execution_count": 5,
     "metadata": {},
     "output_type": "execute_result"
    }
   ],
   "source": [
    "dic={1:\"FACE\",2:4,3:{5:\"hello\",6: 9.5}}\n",
    "dic"
   ]
  },
  {
   "cell_type": "code",
   "execution_count": 6,
   "id": "df62d3f2-9d2e-4a11-ba98-47bd3e53922c",
   "metadata": {},
   "outputs": [
    {
     "name": "stdout",
     "output_type": "stream",
     "text": [
      "{0: 'Apple', 1: 'Hard', 3: 'work'}\n"
     ]
    }
   ],
   "source": [
    "dic={}\n",
    "dic[0]=\"Apple\"\n",
    "dic[1]=\"Hard\"\n",
    "dic[3]=\"work\"\n",
    "print(dic)"
   ]
  },
  {
   "cell_type": "code",
   "execution_count": 8,
   "id": "c4059aaf-016e-42f2-b44f-b85a42b6dfe4",
   "metadata": {},
   "outputs": [
    {
     "name": "stdout",
     "output_type": "stream",
     "text": [
      "{0: 'Apple', 1: 'Hard', 3: 'work', 'new_set': (1, 5, 8)}\n",
      "{0: 'Google', 1: 'Hard', 3: 'work', 'new_set': (1, 5, 8)}\n"
     ]
    }
   ],
   "source": [
    "dic['new_set']=1,5,8\n",
    "print(dic)\n",
    "dic[0]=\"Google\"\n",
    "print(dic)"
   ]
  },
  {
   "cell_type": "code",
   "execution_count": 9,
   "id": "8847da4a-f36e-41cf-847c-3f5136b64a3f",
   "metadata": {},
   "outputs": [
    {
     "name": "stdout",
     "output_type": "stream",
     "text": [
      "(1, 5, 8)\n",
      "Hard\n"
     ]
    }
   ],
   "source": [
    "dic={0:'Apple',1:'Hard',3:'work','new_set':(1,5,8)}\n",
    "print(dic.get(\"new_set\"))\n",
    "print(dic.get(1))"
   ]
  }
 ],
 "metadata": {
  "kernelspec": {
   "display_name": "Python 3 (ipykernel)",
   "language": "python",
   "name": "python3"
  },
  "language_info": {
   "codemirror_mode": {
    "name": "ipython",
    "version": 3
   },
   "file_extension": ".py",
   "mimetype": "text/x-python",
   "name": "python",
   "nbconvert_exporter": "python",
   "pygments_lexer": "ipython3",
   "version": "3.12.4"
  }
 },
 "nbformat": 4,
 "nbformat_minor": 5
}
