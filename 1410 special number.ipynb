{
 "cells": [
  {
   "cell_type": "code",
   "execution_count": 12,
   "id": "4f79bc16-cd58-4e87-8272-11bf21a2200e",
   "metadata": {},
   "outputs": [
    {
     "name": "stdin",
     "output_type": "stream",
     "text": [
      " 50\n"
     ]
    },
    {
     "name": "stdout",
     "output_type": "stream",
     "text": [
      "first digit: 5\n",
      "second digit: 0\n",
      "Output: 5\n",
      "not a special number\n"
     ]
    }
   ],
   "source": [
    "x=int(input()) #take 19 as user input\n",
    "first=x//10 #first digit\n",
    "second=x%10 #second digit\n",
    "\n",
    "print(\"first digit:\",first)\n",
    "print(\"second digit:\",second)\n",
    "\n",
    "result=(first+second) + (first*second)\n",
    "print(\"Output:\",result)\n",
    "\n",
    "if x==result:\n",
    "    print(\"special number\")\n",
    "else:\n",
    "    print(\"not a special number\")"
   ]
  }
 ],
 "metadata": {
  "kernelspec": {
   "display_name": "Python 3 (ipykernel)",
   "language": "python",
   "name": "python3"
  },
  "language_info": {
   "codemirror_mode": {
    "name": "ipython",
    "version": 3
   },
   "file_extension": ".py",
   "mimetype": "text/x-python",
   "name": "python",
   "nbconvert_exporter": "python",
   "pygments_lexer": "ipython3",
   "version": "3.12.4"
  }
 },
 "nbformat": 4,
 "nbformat_minor": 5
}
