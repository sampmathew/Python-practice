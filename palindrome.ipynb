{
 "cells": [
  {
   "cell_type": "code",
   "execution_count": 5,
   "id": "eb0fa327-551c-4069-9c05-f6c0cf388f90",
   "metadata": {},
   "outputs": [
    {
     "name": "stdin",
     "output_type": "stream",
     "text": [
      " mom\n"
     ]
    },
    {
     "name": "stdout",
     "output_type": "stream",
     "text": [
      "m\n",
      "om\n",
      "mom\n",
      "Reversed text: mom\n",
      "yes, the given string is palindrome\n"
     ]
    }
   ],
   "source": [
    "#write a program to a reverse a string and check whether its palindrome or not\n",
    "#for<variable> in <sequence>:\n",
    "    #<body stmts>\n",
    "\n",
    "text=str(input())\n",
    "rev_text =\"\"\n",
    "for j in text:\n",
    "    rev_text=j+rev_text\n",
    "    print(rev_text)\n",
    "print(\"Reversed text:\",rev_text)\n",
    "\n",
    "if text==rev_text:\n",
    "    print(\"yes, the given string is palindrome\")\n",
    "else:\n",
    "    print(\"No,  the given string is not a palindrome\")"
   ]
  },
  {
   "cell_type": "code",
   "execution_count": null,
   "id": "a021153f-2617-4f1a-b956-602b0eb113e4",
   "metadata": {},
   "outputs": [],
   "source": []
  }
 ],
 "metadata": {
  "kernelspec": {
   "display_name": "Python 3 (ipykernel)",
   "language": "python",
   "name": "python3"
  },
  "language_info": {
   "codemirror_mode": {
    "name": "ipython",
    "version": 3
   },
   "file_extension": ".py",
   "mimetype": "text/x-python",
   "name": "python",
   "nbconvert_exporter": "python",
   "pygments_lexer": "ipython3",
   "version": "3.12.4"
  }
 },
 "nbformat": 4,
 "nbformat_minor": 5
}
