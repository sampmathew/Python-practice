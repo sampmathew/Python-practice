{
 "cells": [
  {
   "cell_type": "code",
   "execution_count": 34,
   "id": "ea4a5423-17e6-4cc3-bcf4-89816d1c0034",
   "metadata": {},
   "outputs": [
    {
     "name": "stdin",
     "output_type": "stream",
     "text": [
      "Enter n:  5\n",
      "Enter m:  4\n"
     ]
    },
    {
     "name": "stdout",
     "output_type": "stream",
     "text": [
      "5 * 1 = 5\n",
      "5 * 2 = 10\n",
      "5 * 3 = 15\n",
      "5 * 4 = 20\n"
     ]
    }
   ],
   "source": [
    "n = int(input(\"Enter n: \")) \n",
    "m = int(input(\"Enter m: \"))  \n",
    "\n",
    "i = 1 \n",
    "while i <= m:\n",
    "    print(f\"{n} * {i} = {n * i}\")\n",
    "    i +=1"
   ]
  }
 ],
 "metadata": {
  "kernelspec": {
   "display_name": "Python 3 (ipykernel)",
   "language": "python",
   "name": "python3"
  },
  "language_info": {
   "codemirror_mode": {
    "name": "ipython",
    "version": 3
   },
   "file_extension": ".py",
   "mimetype": "text/x-python",
   "name": "python",
   "nbconvert_exporter": "python",
   "pygments_lexer": "ipython3",
   "version": "3.12.4"
  }
 },
 "nbformat": 4,
 "nbformat_minor": 5
}
