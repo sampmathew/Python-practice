{
 "cells": [
  {
   "cell_type": "code",
   "execution_count": 2,
   "id": "7b58cba1-ecf3-4d59-8eaf-3b5a1e997ec6",
   "metadata": {},
   "outputs": [
    {
     "name": "stdout",
     "output_type": "stream",
     "text": [
      "{'W', 'D', 'O', 'H', 'R', 'E', 'L'}\n"
     ]
    }
   ],
   "source": [
    "#set comprehension with string Manipulation\n",
    "#create a set of uppercase letters from a string\n",
    "\n",
    "text=\"hello world\"\n",
    "uppercase_letters={char.upper() for char in text if char.isalpha()}\n",
    "print(uppercase_letters)"
   ]
  },
  {
   "cell_type": "code",
   "execution_count": 4,
   "id": "9452b237-df88-4e5a-a93d-6187576e7d7b",
   "metadata": {},
   "outputs": [
    {
     "name": "stdout",
     "output_type": "stream",
     "text": [
      "{'cherry', 'banana', 'apple'}\n"
     ]
    }
   ],
   "source": [
    "words=['apple','banana','cherry','lyn']\n",
    "vowels=['a','e','i','o','u']\n",
    "vwords={word for word in words if any(letter in vowels for letter in word)}\n",
    "print(vwords)"
   ]
  },
  {
   "cell_type": "code",
   "execution_count": 6,
   "id": "dea91161-c859-42df-94bd-550601605055",
   "metadata": {},
   "outputs": [
    {
     "name": "stdout",
     "output_type": "stream",
     "text": [
      "{0: 0, 1: 1, 2: 4, 3: 9, 4: 16}\n"
     ]
    }
   ],
   "source": [
    "#Basic dict comprehension\n",
    "#create a dictionary\n",
    "squares={x:x**2 for x in range(5)}\n",
    "print(squares)"
   ]
  },
  {
   "cell_type": "code",
   "execution_count": 7,
   "id": "8f11f84e-dda0-4178-bd20-07f9cfe6a2ae",
   "metadata": {},
   "outputs": [
    {
     "name": "stdout",
     "output_type": "stream",
     "text": [
      "{0: 0, 2: 8, 4: 64, 6: 216, 8: 512}\n"
     ]
    }
   ],
   "source": [
    "#create a dictionary where the keys are even numbers and the values are their cubes\n",
    "\n",
    "cubes={x:x**3 for x in range(10) if x%2 == 0}\n",
    "print(cubes)"
   ]
  },
  {
   "cell_type": "code",
   "execution_count": 8,
   "id": "53099335-7cd5-4327-9ca0-43f5567842b2",
   "metadata": {},
   "outputs": [
    {
     "name": "stdout",
     "output_type": "stream",
     "text": [
      "{'a': 1, 'b': 2, 'c': 3}\n"
     ]
    }
   ],
   "source": [
    "# Using two lists:\n",
    "# create a dictionary from two lists, one for keys and one for values\n",
    "keys=['a','b','c']\n",
    "values=[1,2,3]\n",
    "my_dict={keys[i]:values[i]for i in \n",
    "        range(len(keys))}\n",
    "print(my_dict)"
   ]
  },
  {
   "cell_type": "code",
   "execution_count": 9,
   "id": "d994760e-31f5-4f40-af39-e97f6c0d6bde",
   "metadata": {},
   "outputs": [
    {
     "name": "stdout",
     "output_type": "stream",
     "text": [
      "{1: 'a', 2: 'b', 3: 'c'}\n"
     ]
    }
   ],
   "source": [
    "# Swapping keys and values\n",
    "# create a dictionary by swapping keys and values from another dictionary\n",
    "original={'a':1,'b':2,'c':3}\n",
    "swapped={v:k for k, v in original.items()}\n",
    "print(swapped)"
   ]
  },
  {
   "cell_type": "code",
   "execution_count": 11,
   "id": "dbe9871c-f352-44f3-9e94-f63825ebf831",
   "metadata": {},
   "outputs": [
    {
     "name": "stdout",
     "output_type": "stream",
     "text": [
      "{'b': 6, 'd': 10}\n"
     ]
    }
   ],
   "source": [
    "original={'a':1,'b':6,'c':3,'d':10}\n",
    "filtered={k:v for k, v in original.items() if v>=5}\n",
    "print(filtered)"
   ]
  },
  {
   "cell_type": "code",
   "execution_count": 12,
   "id": "5c55ff38-6102-41c5-9473-075fb21d5e06",
   "metadata": {},
   "outputs": [
    {
     "name": "stdout",
     "output_type": "stream",
     "text": [
      "{'a': 10, 'b': 20, 'c': 30}\n"
     ]
    }
   ],
   "source": [
    "original={'a':1,'b':2,'c':3}\n",
    "transformed={k:v*10 for k,v in original.items()}\n",
    "print(transformed)"
   ]
  },
  {
   "cell_type": "code",
   "execution_count": 13,
   "id": "4e28eb06-16ae-47e5-9646-bf539b6494d0",
   "metadata": {},
   "outputs": [
    {
     "name": "stdout",
     "output_type": "stream",
     "text": [
      "{1: {'square': 1, 'cube': 1}, 2: {'square': 4, 'cube': 8}, 3: {'square': 9, 'cube': 27}, 4: {'square': 16, 'cube': 64}}\n"
     ]
    }
   ],
   "source": [
    "# nested dictionary comprehension\n",
    "numbers=[1,2,3,4]\n",
    "nested_dict={x:{'square':x**2,'cube':x**3}\n",
    "for x in numbers}\n",
    "print(nested_dict)"
   ]
  },
  {
   "cell_type": "code",
   "execution_count": 15,
   "id": "6951892f-19c9-4ce2-90ca-60560f7c0a28",
   "metadata": {},
   "outputs": [
    {
     "name": "stdout",
     "output_type": "stream",
     "text": [
      "{'a': 1, 'c': 3}\n"
     ]
    }
   ],
   "source": [
    "# creating a dic from two lists with a condition\n",
    "keys=['a','b','c','d']\n",
    "values=[1,2,3,4]\n",
    "filtered_dict={keys[i]: values[i] for i in range(len(keys)) if i %2==0}\n",
    "print(filtered_dict)"
   ]
  },
  {
   "cell_type": "code",
   "execution_count": 16,
   "id": "bd4d3a01-07d2-4e4a-9526-4df2d28afef2",
   "metadata": {},
   "outputs": [
    {
     "name": "stdout",
     "output_type": "stream",
     "text": [
      "{'a': 1, 'b': 2, 'c': 3}\n"
     ]
    }
   ],
   "source": [
    "tuples=[('a',1),('b',2),('c',3)]\n",
    "my_dict={key:value for key, value in tuples}\n",
    "print(my_dict)"
   ]
  },
  {
   "cell_type": "code",
   "execution_count": 17,
   "id": "138e5fc3-3898-4b44-8910-9d761886a1dd",
   "metadata": {},
   "outputs": [
    {
     "name": "stdout",
     "output_type": "stream",
     "text": [
      "{'a': 1, 'b': 2, 'c': 3, 'd': 0}\n"
     ]
    }
   ],
   "source": [
    "# Handling missing keys(defalult value)\n",
    "keys=['a','b','c','d']\n",
    "values=[1,2,3]\n",
    "my_dict={k:values[i] if i<len(values) else 0 for i,k in  enumerate(keys)}\n",
    "print(my_dict)"
   ]
  },
  {
   "cell_type": "code",
   "execution_count": 23,
   "id": "c5975556-d093-47f3-a080-1a4c2c88932b",
   "metadata": {},
   "outputs": [
    {
     "name": "stdout",
     "output_type": "stream",
     "text": [
      "Sri 200000 32\n"
     ]
    }
   ],
   "source": [
    "class Employee:\n",
    "    def __init__(self,name,age,salary):\n",
    "        self.name=name\n",
    "        self.age=age\n",
    "        self.salary=salary\n",
    "    def printdata(self):\n",
    "        print(self.name,self.age,self.salary)\n",
    "d=Employee(\"Sri\",200000,32)\n",
    "d.printdata()"
   ]
  },
  {
   "cell_type": "code",
   "execution_count": 24,
   "id": "b3389d94-deb5-45f6-abeb-ed5a769effc5",
   "metadata": {},
   "outputs": [
    {
     "name": "stdout",
     "output_type": "stream",
     "text": [
      "Name: Audi Id: 200000\n"
     ]
    }
   ],
   "source": [
    "class Car:\n",
    "    \n",
    "    car=0\n",
    "    def __init__(self,name,id):\n",
    "        self.name=name\n",
    "        self.id=id\n",
    "        Car.car+=1\n",
    "\n",
    "    def printCardata(self):\n",
    "        print(\"Name:\",self.name,\"Id:\",self.id)\n",
    "c=Car(\"Audi\",200000)\n",
    "c.printCardata()"
   ]
  },
  {
   "cell_type": "code",
   "execution_count": 26,
   "id": "43f942cf-7405-4dcf-9162-f6e1d05a53c6",
   "metadata": {},
   "outputs": [
    {
     "name": "stdout",
     "output_type": "stream",
     "text": [
      "eagle Crow sparrow\n"
     ]
    }
   ],
   "source": [
    "class Birds:\n",
    "    def __init__(self,b1,b2,b3):\n",
    "        self.b1=b1\n",
    "        self.b2=b2\n",
    "        self.b3=b3\n",
    "    def printdata(self):\n",
    "        print(self.b1,self.b2,self.b3)\n",
    "b=Birds(\"eagle\",\"Crow\",\"sparrow\")\n",
    "b.printdata()"
   ]
  },
  {
   "cell_type": "code",
   "execution_count": 34,
   "id": "89ac8be7-dea6-4687-beb9-a7dce982c2ea",
   "metadata": {},
   "outputs": [
    {
     "name": "stdout",
     "output_type": "stream",
     "text": [
      "xxxx 26 30000\n"
     ]
    }
   ],
   "source": [
    "class employee:\n",
    "    def __init__(self,n,a,s):\n",
    "        self.name=n\n",
    "        self.age=a\n",
    "        self.salary=s\n",
    "    def display_data(self):\n",
    "        print(self.name, self.age, self.salary)\n",
    "e1=employee(\"xxxx\",26,30000)\n",
    "e1.display_data()"
   ]
  },
  {
   "cell_type": "code",
   "execution_count": 32,
   "id": "e5081dc8-f14b-47e8-a72a-db5b3645edab",
   "metadata": {},
   "outputs": [
    {
     "name": "stdout",
     "output_type": "stream",
     "text": [
      "Positive values: 1 2\n",
      "Negative values: -1 -2\n"
     ]
    }
   ],
   "source": [
    "class Numbers:\n",
    "    def __init__(self, pos1, pos2, neg1, neg2):\n",
    "        self.pos1 = pos1\n",
    "        self.pos2 = pos2\n",
    "        self.neg1 = neg1\n",
    "        self.neg2 = neg2\n",
    "\n",
    "    def printdata(self):\n",
    "        print(\"Positive values:\", self.pos1, self.pos2)\n",
    "        print(\"Negative values:\", self.neg1, self.neg2)\n",
    "\n",
    "b = Numbers(1, 2, -1, -2)\n",
    "b.printdata()"
   ]
  },
  {
   "cell_type": "code",
   "execution_count": 36,
   "id": "ed798bb4-980b-4129-ae0a-fc7b6f8df1ff",
   "metadata": {},
   "outputs": [
    {
     "name": "stdout",
     "output_type": "stream",
     "text": [
      "Positive values: 1 2\n",
      "Negative values: -1 -2\n"
     ]
    }
   ],
   "source": [
    "class Numbers:\n",
    "    def __init__(self, pos1, pos2, neg1, neg2):\n",
    "        self.pos1 = pos1\n",
    "        self.pos2 = pos2\n",
    "        self.neg1 = neg1\n",
    "        self.neg2 = neg2\n",
    "\n",
    "    def printdata(self):\n",
    "        print(\"Positive values:\", self.pos1, self.pos2)\n",
    "        print(\"Negative values:\", self.neg1, self.neg2)\n",
    "\n",
    "b = Numbers(1, 2, -1, -2)\n",
    "b.printdata()"
   ]
  },
  {
   "cell_type": "code",
   "execution_count": 37,
   "id": "d1f3e43f-0e9f-47cd-83bc-4e44876217d7",
   "metadata": {},
   "outputs": [
    {
     "name": "stdout",
     "output_type": "stream",
     "text": [
      "Hello\n",
      "10\n"
     ]
    }
   ],
   "source": [
    "class Test:\n",
    "    x=10 #static variable\n",
    "    def __init__(self):\n",
    "        print(\"Hello\")\n",
    "t=Test()\n",
    "print(Test.x)\n"
   ]
  },
  {
   "cell_type": "code",
   "execution_count": 39,
   "id": "429bfd3b-c1d4-4332-b377-47348fb537b4",
   "metadata": {},
   "outputs": [
    {
     "name": "stdout",
     "output_type": "stream",
     "text": [
      "Total Cars:  3\n",
      "Name:  AUDI Id:  2000000\n",
      "Name:  BENZ Id:  3000000\n",
      "Name:  BMW Id:  1000000\n"
     ]
    }
   ],
   "source": [
    "class Car:\n",
    "    'Common_car'\n",
    "    car=0\n",
    "    def __init__(self,name,id):\n",
    "        self.name=name\n",
    "        self.id=id\n",
    "        Car.car+=1\n",
    "\n",
    "    def printCardata(self):\n",
    "        print(\"Name: \",self.name,\"Id: \",self.id)\n",
    "c=Car(\"AUDI\",2000000)\n",
    "c1=Car(\"BENZ\",3000000)\n",
    "c2=Car(\"BMW\",1000000)\n",
    "print(\"Total Cars: \", Car.car)\n",
    "c.printCardata()\n",
    "c1.printCardata()\n",
    "c2.printCardata()"
   ]
  },
  {
   "cell_type": "code",
   "execution_count": 42,
   "id": "c2a2d006-0cba-46ac-8487-92154d06570b",
   "metadata": {},
   "outputs": [
    {
     "name": "stdout",
     "output_type": "stream",
     "text": [
      "Car\n"
     ]
    }
   ],
   "source": [
    "class test:\n",
    "    def __init__(self):\n",
    "        self.variable='Car'\n",
    "        self.Change(self.variable)\n",
    "    def Change(self, var):\n",
    "        var = 'Bike'\n",
    "obj=test()\n",
    "print(obj.variable)"
   ]
  },
  {
   "cell_type": "code",
   "execution_count": null,
   "id": "eba53db0-ad79-49ab-8b01-70e99dd9ea8f",
   "metadata": {},
   "outputs": [],
   "source": []
  },
  {
   "cell_type": "code",
   "execution_count": null,
   "id": "fc35ec6b-46c4-471d-9ce0-78fb32197dbc",
   "metadata": {},
   "outputs": [],
   "source": []
  },
  {
   "cell_type": "code",
   "execution_count": null,
   "id": "92ee4bc2-18fa-4635-833b-b801d4fe12e2",
   "metadata": {},
   "outputs": [],
   "source": []
  },
  {
   "cell_type": "code",
   "execution_count": null,
   "id": "2f16c6ab-72fb-41f2-9434-e98e05abb06d",
   "metadata": {},
   "outputs": [],
   "source": []
  }
 ],
 "metadata": {
  "kernelspec": {
   "display_name": "Python 3 (ipykernel)",
   "language": "python",
   "name": "python3"
  },
  "language_info": {
   "codemirror_mode": {
    "name": "ipython",
    "version": 3
   },
   "file_extension": ".py",
   "mimetype": "text/x-python",
   "name": "python",
   "nbconvert_exporter": "python",
   "pygments_lexer": "ipython3",
   "version": "3.12.4"
  }
 },
 "nbformat": 4,
 "nbformat_minor": 5
}
