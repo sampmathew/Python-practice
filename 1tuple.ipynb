{
 "cells": [
  {
   "cell_type": "code",
   "execution_count": 3,
   "id": "06527368-49fb-47f7-965e-cc8e55850498",
   "metadata": {},
   "outputs": [
    {
     "name": "stdout",
     "output_type": "stream",
     "text": [
      "()\n"
     ]
    }
   ],
   "source": [
    "empty_tuple=()\n",
    "print(empty_tuple)"
   ]
  },
  {
   "cell_type": "code",
   "execution_count": 8,
   "id": "6ed260cf-5430-45c1-8139-8e0427461f85",
   "metadata": {},
   "outputs": [
    {
     "name": "stdout",
     "output_type": "stream",
     "text": [
      "(26, 45, 'hello')\n"
     ]
    }
   ],
   "source": [
    "value_tuple=(26,45,'hello')\n",
    "\n",
    "print(value_tuple)"
   ]
  },
  {
   "cell_type": "code",
   "execution_count": 6,
   "id": "fa1fb688-01f9-4f3f-9062-9b78049413a4",
   "metadata": {},
   "outputs": [
    {
     "name": "stdout",
     "output_type": "stream",
     "text": [
      "('hello',)\n"
     ]
    }
   ],
   "source": [
    "tuple=('hello',)#using ,\n",
    "print(tuple)"
   ]
  },
  {
   "cell_type": "code",
   "execution_count": 9,
   "id": "02e3662f-7896-4912-9ab4-1c375d75f832",
   "metadata": {},
   "outputs": [
    {
     "ename": "TypeError",
     "evalue": "'tuple' object does not support item assignment",
     "output_type": "error",
     "traceback": [
      "\u001b[1;31m---------------------------------------------------------------------------\u001b[0m",
      "\u001b[1;31mTypeError\u001b[0m                                 Traceback (most recent call last)",
      "Cell \u001b[1;32mIn[9], line 2\u001b[0m\n\u001b[0;32m      1\u001b[0m value_tuple\u001b[38;5;241m=\u001b[39m(\u001b[38;5;241m26\u001b[39m,\u001b[38;5;241m45\u001b[39m,\u001b[38;5;124m'\u001b[39m\u001b[38;5;124mhello\u001b[39m\u001b[38;5;124m'\u001b[39m)\n\u001b[1;32m----> 2\u001b[0m value_tuple[\u001b[38;5;241m1\u001b[39m]\u001b[38;5;241m=\u001b[39m\u001b[38;5;241m7\u001b[39m\n\u001b[0;32m      3\u001b[0m \u001b[38;5;28mprint\u001b[39m(value_tuple)\n",
      "\u001b[1;31mTypeError\u001b[0m: 'tuple' object does not support item assignment"
     ]
    }
   ],
   "source": [
    "value_tuple=(26,45,'hello')\n",
    "value_tuple[1]=7\n",
    "print(value_tuple)"
   ]
  },
  {
   "cell_type": "code",
   "execution_count": 10,
   "id": "84ac60a3-fa70-4144-a4af-63eb51aa0581",
   "metadata": {},
   "outputs": [
    {
     "name": "stdout",
     "output_type": "stream",
     "text": [
      "(26, 45, 'hello', 7, 5.6, 'python')\n"
     ]
    }
   ],
   "source": [
    "v1=(26,45,'hello')\n",
    "v2=7,5.6,\"python\"\n",
    "print(v1+v2)"
   ]
  },
  {
   "cell_type": "code",
   "execution_count": 11,
   "id": "972d2b8a-1388-47a3-a004-733094bf3d50",
   "metadata": {},
   "outputs": [
    {
     "name": "stdout",
     "output_type": "stream",
     "text": [
      "((26, 45, 'hello'), (7, 5.6, 'python'))\n"
     ]
    }
   ],
   "source": [
    "v1=(26,45,'hello')\n",
    "v2=7,5.6,\"python\"\n",
    "v3=v1,v2\n",
    "print(v3)"
   ]
  },
  {
   "cell_type": "code",
   "execution_count": 13,
   "id": "d8e840b7-fcb7-4dc7-bdf3-8e78ef640da7",
   "metadata": {},
   "outputs": [
    {
     "name": "stdout",
     "output_type": "stream",
     "text": [
      "(26, 45, 'hello', 26, 45, 'hello')\n"
     ]
    }
   ],
   "source": [
    "vt=(26,45,'hello',)*2\n",
    "print(vt)"
   ]
  },
  {
   "cell_type": "code",
   "execution_count": 24,
   "id": "faf8a5fe-57eb-4b34-9208-6546b5639ae8",
   "metadata": {},
   "outputs": [
    {
     "name": "stdout",
     "output_type": "stream",
     "text": [
      "(26, 45, 'hello', 7.5)\n",
      "('hello', 7.5)\n",
      "(26, 45, 'hello')\n",
      "(26, 45, 'hello', 7.5)\n",
      "7.5\n",
      "(26, 45, 'hello')\n",
      "(7.5, 'hello', 45, 26)\n",
      "(26, 45, 'hello', 7.5)\n",
      "(45, 'hello', 7.5)\n",
      "(7.5, 45)\n",
      "(45, 7.5)\n"
     ]
    }
   ],
   "source": [
    "value_tuple=(26,45,'hello',7.5)\n",
    "print(value_tuple[0:])\n",
    "print(value_tuple[2:])\n",
    "print(value_tuple[:3])\n",
    "print(value_tuple[:4])\n",
    "print(value_tuple[-1])\n",
    "print(value_tuple[:-1])\n",
    "print(value_tuple[::-1])\n",
    "print(value_tuple[0:])\n",
    "print(value_tuple[1::1])\n",
    "print(value_tuple[-1::-2])\n",
    "print(value_tuple[1:6:2])\n"
   ]
  },
  {
   "cell_type": "code",
   "execution_count": 29,
   "id": "08310b38-13eb-49a9-a7ba-f10435c4462a",
   "metadata": {},
   "outputs": [],
   "source": [
    "value_tuple=(26,45,'hello',7.5,'z',5,6.9)\n",
    "del(value_tuple)\n"
   ]
  },
  {
   "cell_type": "raw",
   "id": "62415bc2-b3e5-4114-bcbd-53ec21e4ca15",
   "metadata": {},
   "source": [
    "print(value_tuple)"
   ]
  },
  {
   "cell_type": "code",
   "execution_count": 3,
   "id": "1d734f2e-6a4f-4c74-93f2-612f3c38c887",
   "metadata": {},
   "outputs": [
    {
     "name": "stdin",
     "output_type": "stream",
     "text": [
      " 5\n",
      " 10 20 30 20 10\n"
     ]
    },
    {
     "name": "stdout",
     "output_type": "stream",
     "text": [
      "Non-duplicate items:\n",
      "[10, 20, 30]\n"
     ]
    }
   ],
   "source": [
    "size_of_list=int(input())\n",
    "list_1=list(map(int,input().split()))\n",
    "b=[]\n",
    "unique = []\n",
    "for x in list_1:\n",
    "    if x not in b:\n",
    "        unique.append(x)\n",
    "        b.append(x)\n",
    "print(\"Non-duplicate items:\")\n",
    "print(unique)"
   ]
  },
  {
   "cell_type": "code",
   "execution_count": 4,
   "id": "fac3f0a7-166f-4dd6-9f22-dcd96954edfb",
   "metadata": {},
   "outputs": [
    {
     "name": "stdin",
     "output_type": "stream",
     "text": [
      " 5\n",
      " 12 6 26 10 67\n"
     ]
    },
    {
     "name": "stdout",
     "output_type": "stream",
     "text": [
      "[67, 6, 26, 10, 12]\n"
     ]
    }
   ],
   "source": [
    "size_of_list_1=int(input())\n",
    "list_1=list(map(int,input().split()))\n",
    "list_1[0]=list_1[0]+list_1[-1]\n",
    "list_1[-1]=list_1[0]-list_1[-1]\n",
    "list_1[0]=list_1[0]-list_1[-1]\n",
    "print(list_1)"
   ]
  }
 ],
 "metadata": {
  "kernelspec": {
   "display_name": "Python 3 (ipykernel)",
   "language": "python",
   "name": "python3"
  },
  "language_info": {
   "codemirror_mode": {
    "name": "ipython",
    "version": 3
   },
   "file_extension": ".py",
   "mimetype": "text/x-python",
   "name": "python",
   "nbconvert_exporter": "python",
   "pygments_lexer": "ipython3",
   "version": "3.12.4"
  }
 },
 "nbformat": 4,
 "nbformat_minor": 5
}
