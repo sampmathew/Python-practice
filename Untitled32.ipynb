{
 "cells": [
  {
   "cell_type": "code",
   "execution_count": 1,
   "id": "addf8524-071e-49b4-94d2-71c9a0074131",
   "metadata": {},
   "outputs": [
    {
     "name": "stdin",
     "output_type": "stream",
     "text": [
      " 55\n",
      " 66\n",
      " 25\n"
     ]
    },
    {
     "name": "stdout",
     "output_type": "stream",
     "text": [
      "55.0\n"
     ]
    }
   ],
   "source": [
    "def second_greatest(a,b,c):\n",
    "    if (a>b and a>c):\n",
    "        return b if b>c else c\n",
    "    elif (b>a and b>c):\n",
    "        return a if a>c else b\n",
    "a=float(input())\n",
    "b=float(input())\n",
    "c=float(input())\n",
    "\n",
    "print(second_greatest(a,b,c))"
   ]
  },
  {
   "cell_type": "code",
   "execution_count": 5,
   "id": "236adfad-56ef-43d9-a616-07c2638ecac2",
   "metadata": {},
   "outputs": [
    {
     "name": "stdout",
     "output_type": "stream",
     "text": [
      "he\n"
     ]
    }
   ],
   "source": [
    "a=\"hello world\"\n",
    "print(a[:2])\n"
   ]
  },
  {
   "cell_type": "code",
   "execution_count": 15,
   "id": "ecd29ef9-ed6a-4424-8cc8-af892bfacf6c",
   "metadata": {},
   "outputs": [
    {
     "name": "stdout",
     "output_type": "stream",
     "text": [
      "he\n",
      "hello wor\n",
      "ld\n",
      "ell\n",
      "ello wo\n",
      "ello wo\n",
      "dlrow olleh\n",
      "drwolh\n",
      "hlowrd\n",
      "llo world\n",
      "ld\n",
      "dwl\n",
      "hlowrd\n"
     ]
    }
   ],
   "source": [
    "a=\"hello world\"\n",
    "print(a[:2])\n",
    "print(a[:-2])\n",
    "print(a[-2:])\n",
    "print(a[1:4])\n",
    "print(a[1:8])\n",
    "print(a[1:-3])\n",
    "print(a[::-1])\n",
    "print(a[::-2])\n",
    "print(a[::2])\n",
    "print(a[2::])\n",
    "print(a[-2::])\n",
    "print(a[::-4])\n",
    "print(a[0:11:2])\n",
    "print(a[::2])"
   ]
  },
  {
   "cell_type": "code",
   "execution_count": 17,
   "id": "ce442167-1912-4cb2-8417-a4dece222da7",
   "metadata": {},
   "outputs": [
    {
     "data": {
      "text/plain": [
       "'chunnuchunnumunnu'"
      ]
     },
     "execution_count": 17,
     "metadata": {},
     "output_type": "execute_result"
    }
   ],
   "source": [
    "2*'chunnu'+'munnu'"
   ]
  },
  {
   "cell_type": "code",
   "execution_count": 18,
   "id": "a3701196-d88d-4fb1-be3a-3ebd67df0cad",
   "metadata": {},
   "outputs": [
    {
     "name": "stdin",
     "output_type": "stream",
     "text": [
      "Enter an integer:  55\n"
     ]
    },
    {
     "name": "stdout",
     "output_type": "stream",
     "text": [
      "The number is positive and odd.\n"
     ]
    }
   ],
   "source": [
    "#take a user input as an integer, use the nested if-else statement to determine and print whether the number is: \n",
    "#positive and even \n",
    "#negative and odd \n",
    "#negative\n",
    "#zero\n",
    "num = int(input(\"Enter an integer: \"))\n",
    "\n",
    "if num > 0:\n",
    "    if num % 2 == 0:\n",
    "        print(\"The number is positive and even.\")\n",
    "    else:\n",
    "        print(\"The number is positive and odd.\")\n",
    "elif num < 0:\n",
    "    if num % 2 == 0:\n",
    "        print(\"The number is negative and even.\")\n",
    "    else:\n",
    "        print(\"The number is negative and odd.\")\n",
    "else:\n",
    "    print(\"The number is zero.\")"
   ]
  }
 ],
 "metadata": {
  "kernelspec": {
   "display_name": "Python 3 (ipykernel)",
   "language": "python",
   "name": "python3"
  },
  "language_info": {
   "codemirror_mode": {
    "name": "ipython",
    "version": 3
   },
   "file_extension": ".py",
   "mimetype": "text/x-python",
   "name": "python",
   "nbconvert_exporter": "python",
   "pygments_lexer": "ipython3",
   "version": "3.12.4"
  }
 },
 "nbformat": 4,
 "nbformat_minor": 5
}
