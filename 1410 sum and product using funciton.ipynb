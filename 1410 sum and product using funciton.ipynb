{
 "cells": [
  {
   "cell_type": "code",
   "execution_count": 4,
   "id": "511fa89e-f0bf-4d6c-9442-3bac8f784076",
   "metadata": {},
   "outputs": [
    {
     "name": "stdin",
     "output_type": "stream",
     "text": [
      " 1\n",
      " 2.5\n",
      " 6\n"
     ]
    },
    {
     "name": "stdout",
     "output_type": "stream",
     "text": [
      "9.5\n",
      "15.0\n"
     ]
    }
   ],
   "source": [
    "x=int(input())\n",
    "y=float(input())\n",
    "z=int(input())\n",
    "def add():\n",
    "    sum=x+y+z\n",
    "    return sum\n",
    "def pro():\n",
    "    pro=x*y*z\n",
    "    return pro\n",
    "print(add())\n",
    "print(pro())\n",
    "\n",
    "\n"
   ]
  },
  {
   "cell_type": "code",
   "execution_count": 5,
   "id": "34f90b96-2ce2-48fd-b0f3-4188edaa830d",
   "metadata": {},
   "outputs": [
    {
     "name": "stdin",
     "output_type": "stream",
     "text": [
      " 1\n",
      " 2.5\n",
      " 6\n"
     ]
    },
    {
     "data": {
      "text/plain": [
       "(9.5, 15.0)"
      ]
     },
     "execution_count": 5,
     "metadata": {},
     "output_type": "execute_result"
    }
   ],
   "source": [
    "x=int(input())\n",
    "y=float(input())\n",
    "z=int(input())\n",
    "def test(a,b,c):\n",
    "    add=a+b+c\n",
    "    product=a*b*c\n",
    "    return add,product\n",
    "test(x,y,z)"
   ]
  },
  {
   "cell_type": "code",
   "execution_count": null,
   "id": "75125de3-26d0-4d06-9f1f-2228a5ec6dfc",
   "metadata": {},
   "outputs": [],
   "source": []
  }
 ],
 "metadata": {
  "kernelspec": {
   "display_name": "Python 3 (ipykernel)",
   "language": "python",
   "name": "python3"
  },
  "language_info": {
   "codemirror_mode": {
    "name": "ipython",
    "version": 3
   },
   "file_extension": ".py",
   "mimetype": "text/x-python",
   "name": "python",
   "nbconvert_exporter": "python",
   "pygments_lexer": "ipython3",
   "version": "3.12.4"
  }
 },
 "nbformat": 4,
 "nbformat_minor": 5
}
