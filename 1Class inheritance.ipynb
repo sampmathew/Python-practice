{
 "cells": [
  {
   "cell_type": "code",
   "execution_count": null,
   "id": "dbe594c0-498e-4ddf-bb4f-b2cff3f63e45",
   "metadata": {},
   "outputs": [],
   "source": [
    "#INHERITANCE"
   ]
  },
  {
   "cell_type": "code",
   "execution_count": 3,
   "id": "155d3f77-d35b-4f86-87ec-52006b51ae45",
   "metadata": {},
   "outputs": [
    {
     "name": "stdout",
     "output_type": "stream",
     "text": [
      "Engine is powerful\n",
      "100km\n"
     ]
    }
   ],
   "source": [
    "class Car:\n",
    "    def speed(self):\n",
    "        print(\"100km\")\n",
    "class Audi(Car):\n",
    "    def engine(self):\n",
    "        print(\"Engine is powerful\")\n",
    "c=Audi()\n",
    "c.engine()\n",
    "c.speed()"
   ]
  },
  {
   "cell_type": "code",
   "execution_count": 7,
   "id": "92f70104-68cc-44f4-b780-9107873f4ffd",
   "metadata": {},
   "outputs": [
    {
     "name": "stdout",
     "output_type": "stream",
     "text": [
      "bark\n",
      "meow\n"
     ]
    }
   ],
   "source": [
    "class Animal:\n",
    "    def sound(self):\n",
    "        print(\"Some generic sound\")\n",
    "class Dog(Animal):\n",
    "    def sound(self):\n",
    "        print(\"bark\")\n",
    "class Cat(Animal):\n",
    "    def sound(self):\n",
    "        print(\"meow\")\n",
    "\n",
    "dog = Dog()\n",
    "cat = Cat()\n",
    "\n",
    "#overriding\n",
    "dog.sound()\n",
    "cat.sound()"
   ]
  },
  {
   "cell_type": "code",
   "execution_count": 5,
   "id": "a9c101fa-035c-486d-93d6-df6eda5832e7",
   "metadata": {},
   "outputs": [
    {
     "name": "stdin",
     "output_type": "stream",
     "text": [
      " 8\n",
      " 9\n"
     ]
    },
    {
     "name": "stdout",
     "output_type": "stream",
     "text": [
      "Addition: 17\n",
      "Subtraction: -1\n",
      "Multiplication:  72\n",
      "Floor Division: 0\n"
     ]
    }
   ],
   "source": [
    "#Single inheritence\n",
    "class Calculator:\n",
    "    def add(self,num1,num2):\n",
    "        self.num1=num1;\n",
    "        self.num2=num2;\n",
    "        return self.num1+self.num2\n",
    "    def sub(self,num1,num2):\n",
    "        return num1-num2;\n",
    "class AdvancedCalculator (Calculator):\n",
    "    def mul(self,num1,num2):\n",
    "        print(\"Multiplication: \", num1*num2)\n",
    "    def div(self,num1,num2):\n",
    "        return num1//num2;\n",
    "x=AdvancedCalculator()\n",
    "num1=int(input())\n",
    "num2=int(input())\n",
    "print(\"Addition: %d\" %(x.add(num1,num2)))\n",
    "print(\"Subtraction:\", x.sub(num1,num2))\n",
    "x.mul(num1,num2)\n",
    "print(\"Floor Division: %d\" %(x.div(num1,num2)))"
   ]
  },
  {
   "cell_type": "code",
   "execution_count": 2,
   "id": "5a59e5d1-bd61-4f39-bed5-21191a819e3a",
   "metadata": {},
   "outputs": [
    {
     "name": "stdout",
     "output_type": "stream",
     "text": [
      "5\n",
      "15\n",
      "30\n",
      "50\n"
     ]
    }
   ],
   "source": [
    "class calc:\n",
    "    def add(self,*args):\n",
    "        return sum(args)\n",
    "def main():\n",
    "    result = calc()\n",
    "    return result\n",
    "result=main()\n",
    "print(result.add(5))\n",
    "print(result.add(5,10))\n",
    "print(result.add(5,10,15))\n",
    "print(result.add(5,10,15,20))"
   ]
  },
  {
   "cell_type": "code",
   "execution_count": null,
   "id": "39b100ef-955b-4b7e-a5a2-d0c76b183561",
   "metadata": {},
   "outputs": [],
   "source": []
  },
  {
   "cell_type": "code",
   "execution_count": null,
   "id": "a98296a9-e2e0-44f0-947a-2c4214d79aa6",
   "metadata": {},
   "outputs": [],
   "source": []
  },
  {
   "cell_type": "code",
   "execution_count": null,
   "id": "384bc7f9-b63e-4011-9e43-2d84b44e688d",
   "metadata": {},
   "outputs": [],
   "source": []
  },
  {
   "cell_type": "code",
   "execution_count": null,
   "id": "af57d087-5b67-4113-9442-74e40b30339e",
   "metadata": {},
   "outputs": [],
   "source": []
  },
  {
   "cell_type": "code",
   "execution_count": null,
   "id": "5c09dcb7-e402-4e60-adbe-f79d59fb62b1",
   "metadata": {},
   "outputs": [],
   "source": []
  }
 ],
 "metadata": {
  "kernelspec": {
   "display_name": "Python 3 (ipykernel)",
   "language": "python",
   "name": "python3"
  },
  "language_info": {
   "codemirror_mode": {
    "name": "ipython",
    "version": 3
   },
   "file_extension": ".py",
   "mimetype": "text/x-python",
   "name": "python",
   "nbconvert_exporter": "python",
   "pygments_lexer": "ipython3",
   "version": "3.12.4"
  }
 },
 "nbformat": 4,
 "nbformat_minor": 5
}
