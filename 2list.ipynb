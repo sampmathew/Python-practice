{
 "cells": [
  {
   "cell_type": "code",
   "execution_count": 1,
   "id": "4c2c95bf-5a0d-4d95-9a18-fc6d81dc2904",
   "metadata": {},
   "outputs": [
    {
     "name": "stdout",
     "output_type": "stream",
     "text": [
      "[1, 2, 3, 4]\n"
     ]
    }
   ],
   "source": [
    "num=[1,2,3,4]\n",
    "print(num)"
   ]
  },
  {
   "cell_type": "code",
   "execution_count": 3,
   "id": "d38ca3d0-b4b1-4f2b-a1f7-af77bcf34f8e",
   "metadata": {},
   "outputs": [
    {
     "name": "stdout",
     "output_type": "stream",
     "text": [
      "[12.5, 13.7, 45.6]\n"
     ]
    }
   ],
   "source": [
    "num=[12.5,13.7,45.6]\n",
    "print(num)#float"
   ]
  },
  {
   "cell_type": "code",
   "execution_count": 4,
   "id": "10e99dde-65cd-4f18-8a9a-2c115289fd76",
   "metadata": {},
   "outputs": [
    {
     "name": "stdout",
     "output_type": "stream",
     "text": [
      "['a', 'b', 'c']\n"
     ]
    }
   ],
   "source": [
    "letter=['a','b','c']\n",
    "print(letter)#list in character"
   ]
  },
  {
   "cell_type": "code",
   "execution_count": 6,
   "id": "79f2b4ec-3846-4178-9ca0-75c4c05cfbb2",
   "metadata": {},
   "outputs": [
    {
     "name": "stdout",
     "output_type": "stream",
     "text": [
      "['banana', 'apple', 'orange']\n"
     ]
    }
   ],
   "source": [
    "d=[\"banana\",\"apple\",\"orange\"]\n",
    "print(d)#list in string"
   ]
  },
  {
   "cell_type": "code",
   "execution_count": 8,
   "id": "d1c3b1ef-9e34-4551-a467-77e4d1a045b0",
   "metadata": {},
   "outputs": [
    {
     "data": {
      "text/plain": [
       "['hari', 21, 12.5]"
      ]
     },
     "execution_count": 8,
     "metadata": {},
     "output_type": "execute_result"
    }
   ],
   "source": [
    "c=[\"hari\",21,12.5]\n",
    "c#combination of element in list and to print"
   ]
  },
  {
   "cell_type": "code",
   "execution_count": 9,
   "id": "c3685f53-a97d-4390-ab18-6298b6b98069",
   "metadata": {},
   "outputs": [
    {
     "data": {
      "text/plain": [
       "[[1, 2], ['a', 'b']]"
      ]
     },
     "execution_count": 9,
     "metadata": {},
     "output_type": "execute_result"
    }
   ],
   "source": [
    "x=[[1,2],['a','b']]\n",
    "x#list within list -2lists x=[[]] outer list is parent list and inner list is the child list"
   ]
  },
  {
   "cell_type": "code",
   "execution_count": 31,
   "id": "4c13b190-81a9-4c93-88b6-4357e2a77af7",
   "metadata": {},
   "outputs": [
    {
     "name": "stdout",
     "output_type": "stream",
     "text": [
      "1\n",
      "21.5\n",
      "[1, 21.5]\n",
      "[21.5]\n",
      "[21.5, 'a', 'python']\n",
      "[1]\n",
      "[1, 'python']\n",
      "[1, 21.5, 'a', 'python']\n",
      "['python', 1]\n",
      "[21.5, 'python']\n",
      "[21.5]\n"
     ]
    }
   ],
   "source": [
    "a=[1,21.5,'a','python']\n",
    "\n",
    "print(a[-4])\n",
    "print(a[-3])\n",
    "print(a[:2])\n",
    "print(a[1:2])\n",
    "print(a[1:])\n",
    "print(a[::4])\n",
    "print(a[::3])\n",
    "print(a[::1])\n",
    "#print(a[::0])\n",
    "print(a[::-3])\n",
    "print(a[1:5:2])\n",
    "print(a[1:2:3])"
   ]
  },
  {
   "cell_type": "code",
   "execution_count": 34,
   "id": "ce1da51d-a8c8-455e-ad27-8420b24cd798",
   "metadata": {},
   "outputs": [
    {
     "name": "stdout",
     "output_type": "stream",
     "text": [
      "[[0, 0, 0, 0, 0]]\n",
      "['a', 'b', 'c', 'd', 'python', 'list']\n"
     ]
    }
   ],
   "source": [
    "a=[0]*5\n",
    "print([a])\n",
    "\n",
    "\n",
    "letter=['a','b','c','d']\n",
    "stg=['python','list']\n",
    "conc=letter+stg\n",
    "print (conc)"
   ]
  },
  {
   "cell_type": "code",
   "execution_count": 7,
   "id": "e0f7583d-5b14-46bb-828e-716324d9115d",
   "metadata": {},
   "outputs": [
    {
     "name": "stdout",
     "output_type": "stream",
     "text": [
      "[1, 2, 3, 4]\n",
      "1\n",
      "2\n",
      "3\n",
      "[4]\n"
     ]
    }
   ],
   "source": [
    "num=[1,2,3,4]#predict the output\n",
    "print(num)\n",
    "a,b,c,*other=num\n",
    "print(a)\n",
    "print(b)\n",
    "print(c)\n",
    "print(other)\n"
   ]
  },
  {
   "cell_type": "code",
   "execution_count": 8,
   "id": "1dc3dd5d-701e-4446-8b5b-833730257016",
   "metadata": {},
   "outputs": [
    {
     "name": "stdout",
     "output_type": "stream",
     "text": [
      "Apple\n",
      "banana\n",
      "Goa\n"
     ]
    }
   ],
   "source": [
    "a=[\"Apple\",\"banana\",\"Goa\",\"orange\"]\n",
    "for i in a:\n",
    "    if i==\"orange\":\n",
    "        break;\n",
    "    print(i)\n"
   ]
  },
  {
   "cell_type": "code",
   "execution_count": 10,
   "id": "303d932e-8f8d-491c-9371-27ccdf2d22da",
   "metadata": {},
   "outputs": [
    {
     "name": "stdout",
     "output_type": "stream",
     "text": [
      "Apple\n",
      "Goa\n",
      "orange\n"
     ]
    }
   ],
   "source": [
    "a=[\"Apple\",\"banana\",\"Goa\",\"orange\"]\n",
    "for i in a:\n",
    "    if i==\"banana\":\n",
    "        continue;\n",
    "    print(i)"
   ]
  },
  {
   "cell_type": "code",
   "execution_count": 18,
   "id": "497f574c-b5c0-452a-8fb9-63d2e6e3a292",
   "metadata": {},
   "outputs": [
    {
     "name": "stdout",
     "output_type": "stream",
     "text": [
      "10\n",
      "20\n",
      "30\n",
      "40\n",
      "50\n"
     ]
    }
   ],
   "source": [
    "x=[2,4,6,8,10]#multiple with the 5 in given values\n",
    "for i in x:\n",
    "    j=i*5;\n",
    "    print(j)"
   ]
  },
  {
   "cell_type": "code",
   "execution_count": null,
   "id": "9a4ab2cf-7308-46e6-b6a7-d89d41fc1c54",
   "metadata": {},
   "outputs": [],
   "source": [
    "Adding the different formate"
   ]
  },
  {
   "cell_type": "code",
   "execution_count": 23,
   "id": "4b5b92ca-13cf-4bd0-97a0-52d7645bcf70",
   "metadata": {},
   "outputs": [
    {
     "name": "stdout",
     "output_type": "stream",
     "text": [
      "[1, 2, 3, 4]\n",
      "[1, 2, 3, 4, 6, [9, 7]]\n"
     ]
    }
   ],
   "source": [
    "num=[1,2,3,4]#methods in list\n",
    "print(num)\n",
    "num.append(6)#1 value\n",
    "num.append([9,7])#double value\n",
    "print(num)"
   ]
  },
  {
   "cell_type": "code",
   "execution_count": 30,
   "id": "5a5776ba-ce88-413a-a817-f832c8f4164e",
   "metadata": {},
   "outputs": [
    {
     "name": "stdout",
     "output_type": "stream",
     "text": [
      "[5, 6, 7, 1, 2, 3, 4]\n"
     ]
    }
   ],
   "source": [
    "num=[1,2,3,4]\n",
    "stg=[5,6,7]\n",
    "y=stg+num\n",
    "print(y)"
   ]
  },
  {
   "cell_type": "code",
   "execution_count": 35,
   "id": "a328a8a6-6bee-4430-931b-e9bbbb3d1693",
   "metadata": {},
   "outputs": [
    {
     "name": "stdout",
     "output_type": "stream",
     "text": [
      "[1, 2, 3, 4, 5, 6, 7]\n"
     ]
    }
   ],
   "source": [
    "num=[1,2,3,4]\n",
    "stg=[5,6,7]\n",
    "num.extend(stg)\n",
    "print(num)"
   ]
  },
  {
   "cell_type": "code",
   "execution_count": 37,
   "id": "265b7f9c-6f0d-49a8-af68-130002a807ea",
   "metadata": {},
   "outputs": [
    {
     "name": "stdout",
     "output_type": "stream",
     "text": [
      "['Sri', 1, 2, 3, 4, 5, 6, 7]\n",
      "['Sri', 1, 2, 3, 5, 6, 7]\n"
     ]
    }
   ],
   "source": [
    "num=[1,2,3,4]\n",
    "stg=[5,6,7]\n",
    "num.extend(stg)\n",
    "num.insert(0,\"Sri\")\n",
    "print(num)\n",
    "num.remove(4)\n",
    "print(num)"
   ]
  },
  {
   "cell_type": "code",
   "execution_count": 77,
   "id": "396d8928-f6b7-4858-a08b-9839dfb2502b",
   "metadata": {},
   "outputs": [
    {
     "name": "stdout",
     "output_type": "stream",
     "text": [
      "['z', 'y', 'f', 'b', 'a']\n"
     ]
    }
   ],
   "source": [
    "a=['z','y','f','a','b']\n",
    "a.sort()\n",
    "a.sort(reverse=True)\n",
    "print(a)"
   ]
  },
  {
   "cell_type": "code",
   "execution_count": 80,
   "id": "b6afa85a-7c36-4b3b-af3c-931672dbb687",
   "metadata": {},
   "outputs": [
    {
     "name": "stdout",
     "output_type": "stream",
     "text": [
      "[23, 55, 65, 21, 1]\n",
      "[65, 55, 23, 21, 1]\n"
     ]
    }
   ],
   "source": [
    "a=[23,55,65,21,1]\n",
    "print(a)\n",
    "a.sort(reverse=True)\n",
    "print(a)"
   ]
  },
  {
   "cell_type": "code",
   "execution_count": 82,
   "id": "ccec7489-4dd8-4e5e-a531-629ba60a7541",
   "metadata": {},
   "outputs": [
    {
     "name": "stdout",
     "output_type": "stream",
     "text": [
      "6\n",
      "4\n",
      "90\n"
     ]
    }
   ],
   "source": [
    "a=[9,17,14,4,90,55]\n",
    "print(len(a))\n",
    "print(min(a))\n",
    "print(max(a))"
   ]
  },
  {
   "cell_type": "code",
   "execution_count": 93,
   "id": "aa9f4634-c203-4b37-a71f-7b11055871ed",
   "metadata": {},
   "outputs": [
    {
     "name": "stdout",
     "output_type": "stream",
     "text": [
      "31.5\n"
     ]
    }
   ],
   "source": [
    "a=[9,17,14,4,90,55]\n",
    "b=(sum(a)/len(a))\n",
    "print(b)"
   ]
  },
  {
   "cell_type": "code",
   "execution_count": 99,
   "id": "d23d8bb5-51b5-4813-82b5-1f897fc00440",
   "metadata": {},
   "outputs": [
    {
     "name": "stdout",
     "output_type": "stream",
     "text": [
      "[1, 2, 3, 4, 5, 6, 7, 8, 9, 10]\n",
      "[1, 3, 5, 7, 9]\n",
      "[2, 4, 6, 8, 10]\n"
     ]
    }
   ],
   "source": [
    "list1=list(range(1,11))\n",
    "print(list1)\n",
    "odd=list1[::2]\n",
    "print (odd)\n",
    "even=list1[1::2]\n",
    "print (even)"
   ]
  }
 ],
 "metadata": {
  "kernelspec": {
   "display_name": "Python 3 (ipykernel)",
   "language": "python",
   "name": "python3"
  },
  "language_info": {
   "codemirror_mode": {
    "name": "ipython",
    "version": 3
   },
   "file_extension": ".py",
   "mimetype": "text/x-python",
   "name": "python",
   "nbconvert_exporter": "python",
   "pygments_lexer": "ipython3",
   "version": "3.12.4"
  }
 },
 "nbformat": 4,
 "nbformat_minor": 5
}
