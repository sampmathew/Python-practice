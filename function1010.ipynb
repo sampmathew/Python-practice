{
 "cells": [
  {
   "cell_type": "code",
   "execution_count": 4,
   "id": "aa229dce-e620-4204-80d5-fb3a849e75f9",
   "metadata": {},
   "outputs": [
    {
     "name": "stdout",
     "output_type": "stream",
     "text": [
      "welcome to python\n"
     ]
    }
   ],
   "source": [
    "def fun():\n",
    "    print(\"welcome to python\")\n",
    "fun()"
   ]
  },
  {
   "cell_type": "code",
   "execution_count": 6,
   "id": "c8cecc5c-ca98-405c-b2f4-d9b60c866b70",
   "metadata": {},
   "outputs": [
    {
     "name": "stdout",
     "output_type": "stream",
     "text": [
      "7\n",
      "5\n",
      "6\n"
     ]
    }
   ],
   "source": [
    "def arith(a,b):\n",
    "    print(a+b)\n",
    "    print(a-b)\n",
    "    print(a*b)\n",
    "arith(6,1)"
   ]
  },
  {
   "cell_type": "code",
   "execution_count": 9,
   "id": "42a903f6-f4f7-48d5-950a-1592a6fc19a4",
   "metadata": {},
   "outputs": [
    {
     "name": "stdin",
     "output_type": "stream",
     "text": [
      "Enter the number 1\n",
      "Enter the number 3\n"
     ]
    },
    {
     "name": "stdout",
     "output_type": "stream",
     "text": [
      "4\n"
     ]
    }
   ],
   "source": [
    "#add two numbers using function\n",
    "def sum(n1,n2):\n",
    "    s=n1+n2\n",
    "    return s\n",
    "x=int(input(\"Enter the number\"))\n",
    "y=int(input(\"Enter the number\"))\n",
    "print(sum(x,y))"
   ]
  },
  {
   "cell_type": "code",
   "execution_count": 11,
   "id": "057e10b8-9e32-4e17-a5ab-8b13b3ae5225",
   "metadata": {},
   "outputs": [
    {
     "name": "stdin",
     "output_type": "stream",
     "text": [
      "Enter the number 1\n",
      "Ente the number 2\n"
     ]
    },
    {
     "name": "stdout",
     "output_type": "stream",
     "text": [
      "3\n"
     ]
    }
   ],
   "source": [
    "#\n",
    "sum=lambda n1,n2:n1+n2\n",
    "x=int(input(\"Enter the number\"))\n",
    "y=int(input(\"Ente the number\"))\n",
    "print(sum(x,y))"
   ]
  },
  {
   "cell_type": "code",
   "execution_count": 12,
   "id": "e3533cd2-93b9-4817-ba62-9e1ce2f33e68",
   "metadata": {},
   "outputs": [
    {
     "ename": "SyntaxError",
     "evalue": "incomplete input (3642238368.py, line 1)",
     "output_type": "error",
     "traceback": [
      "\u001b[1;36m  Cell \u001b[1;32mIn[12], line 1\u001b[1;36m\u001b[0m\n\u001b[1;33m    def local():\u001b[0m\n\u001b[1;37m                ^\u001b[0m\n\u001b[1;31mSyntaxError\u001b[0m\u001b[1;31m:\u001b[0m incomplete input\n"
     ]
    }
   ],
   "source": [
    "def local():\n",
    "    a=int(input(\"Enter the number:\"))\n",
    "    b=int(input(\"Enter the number:\"))\n",
    "    c=sum"
   ]
  },
  {
   "cell_type": "code",
   "execution_count": 13,
   "id": "d4aa3e1a-1b37-40a2-8c17-f6dde1d28837",
   "metadata": {},
   "outputs": [
    {
     "name": "stdout",
     "output_type": "stream",
     "text": [
      "Inside the function local total:  30\n",
      "Outside the function global total:  0\n"
     ]
    }
   ],
   "source": [
    "total=0;\n",
    "def sum(arg1,arg2):\n",
    "  total=arg1+arg2;\n",
    "  print(\"Inside the function local total: \",total)\n",
    "  return total;\n",
    "sum(10,20);\n",
    "print(\"Outside the function global total: \",total)"
   ]
  },
  {
   "cell_type": "code",
   "execution_count": 14,
   "id": "6786dc11-5a3c-473e-a8be-fd545979973d",
   "metadata": {},
   "outputs": [
    {
     "name": "stdin",
     "output_type": "stream",
     "text": [
      " 5\n",
      " 6\n",
      " 3\n"
     ]
    },
    {
     "name": "stdout",
     "output_type": "stream",
     "text": [
      "6\n"
     ]
    }
   ],
   "source": [
    "a=int(input())\n",
    "b=int(input())\n",
    "c=int(input())\n",
    "print(max(a,b,c))\n"
   ]
  },
  {
   "cell_type": "code",
   "execution_count": 15,
   "id": "06eea5cb-fa69-43ca-8da7-331ac4afd833",
   "metadata": {},
   "outputs": [
    {
     "name": "stdout",
     "output_type": "stream",
     "text": [
      "b is the greater\n"
     ]
    }
   ],
   "source": [
    "def max(a,b,c):\n",
    "    if a>b and a>c:\n",
    "        print(\"a is the greater\")\n",
    "    elif b>c:\n",
    "        print(\"b is the greater\")\n",
    "    else:\n",
    "        print(\"c is the greater\")\n",
    "max(1,6,3)"
   ]
  },
  {
   "cell_type": "code",
   "execution_count": null,
   "id": "657eeba3-3ef0-4fda-bc08-b0821bdc3b83",
   "metadata": {},
   "outputs": [],
   "source": []
  }
 ],
 "metadata": {
  "kernelspec": {
   "display_name": "Python 3 (ipykernel)",
   "language": "python",
   "name": "python3"
  },
  "language_info": {
   "codemirror_mode": {
    "name": "ipython",
    "version": 3
   },
   "file_extension": ".py",
   "mimetype": "text/x-python",
   "name": "python",
   "nbconvert_exporter": "python",
   "pygments_lexer": "ipython3",
   "version": "3.12.4"
  }
 },
 "nbformat": 4,
 "nbformat_minor": 5
}
