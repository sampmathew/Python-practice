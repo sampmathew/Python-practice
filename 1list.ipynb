{
 "cells": [
  {
   "cell_type": "code",
   "execution_count": 1,
   "id": "b5917445-4af0-4d8f-8b3a-ec9fe0c2e832",
   "metadata": {},
   "outputs": [
    {
     "name": "stdout",
     "output_type": "stream",
     "text": [
      "89\n",
      "4\n",
      "115\n",
      "[4, 5, 8, 9, 89]\n"
     ]
    }
   ],
   "source": [
    "t=(9,5,89,4,8)\n",
    "print(max(t))\n",
    "print(min(t))\n",
    "print(sum(t))\n",
    "print(sorted(t))"
   ]
  },
  {
   "cell_type": "code",
   "execution_count": 2,
   "id": "d7f8f109-b33b-435a-afa5-7d2ad445ec1e",
   "metadata": {},
   "outputs": [
    {
     "name": "stdout",
     "output_type": "stream",
     "text": [
      "apple\n"
     ]
    }
   ],
   "source": [
    "tup=(\"apple\",\"byte\",\"computer\")\n",
    "n=2\n",
    "for i in range(n):\n",
    "    print(tup[i])\n",
    "    break "
   ]
  },
  {
   "cell_type": "code",
   "execution_count": 1,
   "id": "ff0d1653-f98c-45cd-ba07-0084871df591",
   "metadata": {},
   "outputs": [
    {
     "name": "stdout",
     "output_type": "stream",
     "text": [
      "5\n"
     ]
    }
   ],
   "source": [
    "tup=(3,7,'p','u',5,8)\n",
    "print(tup[4])\n"
   ]
  },
  {
   "cell_type": "code",
   "execution_count": 3,
   "id": "b6dc67d9-dafe-4e85-bd60-be58663e19c2",
   "metadata": {},
   "outputs": [
    {
     "name": "stdout",
     "output_type": "stream",
     "text": [
      "True\n"
     ]
    }
   ],
   "source": [
    "tuple=(4,1)\n",
    "print(all(tuple))"
   ]
  },
  {
   "cell_type": "code",
   "execution_count": 4,
   "id": "c49da8b3-fc7f-45a1-8d08-cec169bfeec8",
   "metadata": {},
   "outputs": [
    {
     "ename": "TypeError",
     "evalue": "'tuple' object does not support item assignment",
     "output_type": "error",
     "traceback": [
      "\u001b[1;31m---------------------------------------------------------------------------\u001b[0m",
      "\u001b[1;31mTypeError\u001b[0m                                 Traceback (most recent call last)",
      "Cell \u001b[1;32mIn[4], line 3\u001b[0m\n\u001b[0;32m      1\u001b[0m value_tup\u001b[38;5;241m=\u001b[39m(\u001b[38;5;241m26\u001b[39m,\u001b[38;5;241m45\u001b[39m,\u001b[38;5;124m'\u001b[39m\u001b[38;5;124mhello\u001b[39m\u001b[38;5;124m'\u001b[39m,\u001b[38;5;241m7.5\u001b[39m)\n\u001b[0;32m      2\u001b[0m value_tup\n\u001b[1;32m----> 3\u001b[0m value_tup[\u001b[38;5;241m2\u001b[39m]\u001b[38;5;241m=\u001b[39m\u001b[38;5;124m\"\u001b[39m\u001b[38;5;124mpython\u001b[39m\u001b[38;5;124m\"\u001b[39m\n",
      "\u001b[1;31mTypeError\u001b[0m: 'tuple' object does not support item assignment"
     ]
    }
   ],
   "source": [
    "value_tup=(26,45,'hello',7.5)\n",
    "value_tup\n",
    "value_tup[2]=\"python\""
   ]
  },
  {
   "cell_type": "code",
   "execution_count": 5,
   "id": "1f49a9cb-a9cb-4845-b6ce-19b980ca549b",
   "metadata": {},
   "outputs": [
    {
     "data": {
      "text/plain": [
       "(26, 45, 'hello', 7, 45, 'hello')"
      ]
     },
     "execution_count": 5,
     "metadata": {},
     "output_type": "execute_result"
    }
   ],
   "source": [
    "value1=(26,45,'hello')\n",
    "value2=(7,45,'hello')\n",
    "value3=value1+value2\n",
    "value3\n"
   ]
  },
  {
   "cell_type": "code",
   "execution_count": 8,
   "id": "adc35657-237a-4525-8401-f39a4a27ef7a",
   "metadata": {},
   "outputs": [
    {
     "name": "stdin",
     "output_type": "stream",
     "text": [
      " 4\n",
      " 12\n",
      " 10\n",
      " 26\n",
      " 6\n"
     ]
    },
    {
     "ename": "TypeError",
     "evalue": "'tuple' object is not callable",
     "output_type": "error",
     "traceback": [
      "\u001b[1;31m---------------------------------------------------------------------------\u001b[0m",
      "\u001b[1;31mTypeError\u001b[0m                                 Traceback (most recent call last)",
      "Cell \u001b[1;32mIn[8], line 6\u001b[0m\n\u001b[0;32m      4\u001b[0m \u001b[38;5;28;01mfor\u001b[39;00m i \u001b[38;5;129;01min\u001b[39;00m \u001b[38;5;28mrange\u001b[39m(n):\n\u001b[0;32m      5\u001b[0m     list_1\u001b[38;5;241m.\u001b[39mappend(\u001b[38;5;28mint\u001b[39m(\u001b[38;5;28minput\u001b[39m()))\n\u001b[1;32m----> 6\u001b[0m value\u001b[38;5;241m=\u001b[39m\u001b[38;5;28mtuple\u001b[39m(list_1)\n",
      "\u001b[1;31mTypeError\u001b[0m: 'tuple' object is not callable"
     ]
    }
   ],
   "source": [
    "value=()\n",
    "n=int(input())\n",
    "list_1=[]\n",
    "for i in range(n):\n",
    "    list_1.append(int(input()))\n",
    "value=tuple(list_1)"
   ]
  },
  {
   "cell_type": "code",
   "execution_count": 2,
   "id": "19c95f22-5a34-40af-b113-1177c6346098",
   "metadata": {},
   "outputs": [
    {
     "name": "stdout",
     "output_type": "stream",
     "text": [
      "one\n"
     ]
    }
   ],
   "source": [
    "number=(\"one\",\"two\",\"three\",\"four\")\n",
    "(a,b,c,d)=number\n",
    "print(a)"
   ]
  },
  {
   "cell_type": "code",
   "execution_count": 3,
   "id": "24b5d716-d052-4dd1-9db5-3a7c45bee8aa",
   "metadata": {},
   "outputs": [
    {
     "name": "stdout",
     "output_type": "stream",
     "text": [
      "One\n",
      "Two Three\n",
      "Four\n"
     ]
    }
   ],
   "source": [
    "number=(\"One\",\"Two\",\"Three\",\"Four\")\n",
    "(a,*b,c)=number\n",
    "print(a)\n",
    "print(*b)\n",
    "print(c)"
   ]
  },
  {
   "cell_type": "code",
   "execution_count": null,
   "id": "ad1ae4cc-1c6b-4bcd-9194-8048f68423bb",
   "metadata": {},
   "outputs": [],
   "source": [
    "value_set={2,'PYTHON',"
   ]
  }
 ],
 "metadata": {
  "kernelspec": {
   "display_name": "Python 3 (ipykernel)",
   "language": "python",
   "name": "python3"
  },
  "language_info": {
   "codemirror_mode": {
    "name": "ipython",
    "version": 3
   },
   "file_extension": ".py",
   "mimetype": "text/x-python",
   "name": "python",
   "nbconvert_exporter": "python",
   "pygments_lexer": "ipython3",
   "version": "3.12.4"
  }
 },
 "nbformat": 4,
 "nbformat_minor": 5
}
