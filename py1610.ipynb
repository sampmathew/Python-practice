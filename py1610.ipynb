{
 "cells": [
  {
   "cell_type": "code",
   "execution_count": 2,
   "id": "51c01ec1-594d-4f0a-8ac6-e129a88c5543",
   "metadata": {},
   "outputs": [
    {
     "name": "stdin",
     "output_type": "stream",
     "text": [
      " face\n",
      " face\n"
     ]
    },
    {
     "name": "stdout",
     "output_type": "stream",
     "text": [
      "<class 'str'>\n",
      "<class 'str'>\n",
      "Strings are same\n"
     ]
    }
   ],
   "source": [
    "x=input()\n",
    "y=input()\n",
    "print(type(x))\n",
    "print(type(y))\n",
    "if x==y:\n",
    "    print(\"Strings are same\")\n",
    "else:\n",
    "    print(\"Strings are not same\")"
   ]
  },
  {
   "cell_type": "code",
   "execution_count": 3,
   "id": "13a25c5d-6699-4e4a-b36c-e05b1e627a59",
   "metadata": {},
   "outputs": [
    {
     "name": "stdin",
     "output_type": "stream",
     "text": [
      " 14\n"
     ]
    },
    {
     "name": "stdout",
     "output_type": "stream",
     "text": [
      "It is multiple of 7\n"
     ]
    }
   ],
   "source": [
    "x=int(input())\n",
    "if x%7==0:\n",
    "    print(\"It is multiple of 7\")\n",
    "else:\n",
    "    print(\"No\")"
   ]
  },
  {
   "cell_type": "code",
   "execution_count": 16,
   "id": "f6f408d1-66e0-45f5-852c-26bb3e074d47",
   "metadata": {},
   "outputs": [
    {
     "name": "stdin",
     "output_type": "stream",
     "text": [
      " 7\n",
      " 10\n",
      " 7\n"
     ]
    },
    {
     "name": "stdout",
     "output_type": "stream",
     "text": [
      "yes\n"
     ]
    }
   ],
   "source": [
    "n = int(input())\n",
    "l = int(input())\n",
    "r = int(input())\n",
    "\n",
    "if l > r:\n",
    "    l, r = r, l \n",
    "\n",
    "if l <= n <= r:\n",
    "    print(\"yes\")\n",
    "else:\n",
    "    print(\"no\")"
   ]
  },
  {
   "cell_type": "code",
   "execution_count": null,
   "id": "bd4173d8-e5da-4602-aa1a-ca6a6ba5c85b",
   "metadata": {},
   "outputs": [],
   "source": []
  }
 ],
 "metadata": {
  "kernelspec": {
   "display_name": "Python 3 (ipykernel)",
   "language": "python",
   "name": "python3"
  },
  "language_info": {
   "codemirror_mode": {
    "name": "ipython",
    "version": 3
   },
   "file_extension": ".py",
   "mimetype": "text/x-python",
   "name": "python",
   "nbconvert_exporter": "python",
   "pygments_lexer": "ipython3",
   "version": "3.12.4"
  }
 },
 "nbformat": 4,
 "nbformat_minor": 5
}
