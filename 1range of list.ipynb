{
 "cells": [
  {
   "cell_type": "code",
   "execution_count": 8,
   "id": "479c788b-5809-48be-990b-ff1c52634e4c",
   "metadata": {},
   "outputs": [
    {
     "name": "stdin",
     "output_type": "stream",
     "text": [
      " 4\n",
      " 12\n",
      " 26\n",
      " 10\n",
      " 6\n"
     ]
    },
    {
     "name": "stdout",
     "output_type": "stream",
     "text": [
      "[12, 26, 10, 6]\n"
     ]
    },
    {
     "name": "stdin",
     "output_type": "stream",
     "text": [
      " 8\n",
      " 5\n",
      " 6\n",
      " 58\n",
      " 54\n",
      " 45\n",
      " 56\n",
      " 55\n",
      " 65\n"
     ]
    },
    {
     "name": "stdout",
     "output_type": "stream",
     "text": [
      "[5, 6, 58, 54, 45, 56, 55, 65]\n"
     ]
    }
   ],
   "source": [
    "size_of_list_1=int(int(input()))\n",
    "list_1=[]\n",
    "for i in range(size_of_list_1):\n",
    "    list_1.append(int(input()))\n",
    "print(list_1)\n",
    "size_of_list_2=int(int(input()))\n",
    "list_2=[]\n",
    "for i in range(size_of_list_2):\n",
    "    list_2.append(int(input()))\n",
    "print(list_2)\n",
    "\n",
    "\n"
   ]
  },
  {
   "cell_type": "code",
   "execution_count": 13,
   "id": "555f0e9c-c83b-4707-9827-b80eb7b1d9d3",
   "metadata": {},
   "outputs": [
    {
     "name": "stdin",
     "output_type": "stream",
     "text": [
      " 5\n",
      " 15 22 35 95 15\n"
     ]
    },
    {
     "name": "stdout",
     "output_type": "stream",
     "text": [
      "95\n"
     ]
    }
   ],
   "source": [
    "a=int(input())\n",
    "b=list(map(int,input().split()))\n",
    "print(max(b))"
   ]
  },
  {
   "cell_type": "code",
   "execution_count": 15,
   "id": "54dbc78f-7f83-4d74-be6d-08a5ebd276f1",
   "metadata": {},
   "outputs": [
    {
     "name": "stdin",
     "output_type": "stream",
     "text": [
      " 5\n",
      " 12 52 65 48\n"
     ]
    },
    {
     "name": "stdout",
     "output_type": "stream",
     "text": [
      "52\n"
     ]
    }
   ],
   "source": [
    "#second max value\n",
    "a=int(input())\n",
    "b=list(map(int,input().split()))\n",
    "b.sort()\n",
    "print(b[-2])"
   ]
  },
  {
   "cell_type": "code",
   "execution_count": 16,
   "id": "61e449e6-2748-420b-8004-ae99e8dd8baf",
   "metadata": {},
   "outputs": [
    {
     "name": "stdout",
     "output_type": "stream",
     "text": [
      "[1, 2, 3, 4, 5, 6, 7, 8, 9, 10]\n",
      "[1, 3, 5, 7, 9]\n"
     ]
    }
   ],
   "source": [
    "##odd number order\n",
    "list1=list(range(1,11))\n",
    "odd=list1[::2]\n",
    "print(list1)\n",
    "print(odd)"
   ]
  },
  {
   "cell_type": "code",
   "execution_count": 18,
   "id": "ac230df8-0d18-4a61-b7a9-27b6eef5742a",
   "metadata": {},
   "outputs": [
    {
     "name": "stdout",
     "output_type": "stream",
     "text": [
      "[1, 2, 3, 4, 5, 6, 7, 8, 9, 10]\n",
      "[2, 4, 6, 8, 10]\n"
     ]
    }
   ],
   "source": [
    "##even number order\n",
    "list1=list(range(1,11))\n",
    "even=list1[1::2]\n",
    "print(list1)\n",
    "print(even)"
   ]
  },
  {
   "cell_type": "code",
   "execution_count": null,
   "id": "4f5d4a99-9011-4fa1-bb28-d93bf4ae4769",
   "metadata": {},
   "outputs": [],
   "source": [
    "n=int(input())\n",
    "b=[]\n",
    "for i in range(n):\n",
    "    a=int(input())\n",
    "    b.append(a)\n",
    "c=[]\n",
    "d=[]\n",
    "for i in b:\n",
    "    if(i%2==0):\n",
    "        c.append(i)\n",
    "    else:\n",
    "        d.append(i)\n",
    "c.sort()\n",
    "d.sort()\n",
    "print(\"Largest even number:\", c[-1])\n",
    "print(\"Largest odd number:\" ,d[-1])\n",
    "#26 99"
   ]
  },
  {
   "cell_type": "code",
   "execution_count": null,
   "id": "ecb89f68-369b-47e6-8dc6-db0611ddb077",
   "metadata": {},
   "outputs": [],
   "source": []
  }
 ],
 "metadata": {
  "kernelspec": {
   "display_name": "Python 3 (ipykernel)",
   "language": "python",
   "name": "python3"
  },
  "language_info": {
   "codemirror_mode": {
    "name": "ipython",
    "version": 3
   },
   "file_extension": ".py",
   "mimetype": "text/x-python",
   "name": "python",
   "nbconvert_exporter": "python",
   "pygments_lexer": "ipython3",
   "version": "3.12.4"
  }
 },
 "nbformat": 4,
 "nbformat_minor": 5
}
