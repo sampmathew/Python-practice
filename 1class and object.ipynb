{
 "cells": [
  {
   "cell_type": "code",
   "execution_count": null,
   "id": "340e178f-ab90-4b34-881b-9093d1ad900b",
   "metadata": {},
   "outputs": [],
   "source": [
    "#multiple inheritance"
   ]
  },
  {
   "cell_type": "code",
   "execution_count": 9,
   "id": "0ac08f5d-f2c4-4675-a807-e94f206c4391",
   "metadata": {},
   "outputs": [
    {
     "name": "stdin",
     "output_type": "stream",
     "text": [
      "Enter your name:  hari\n",
      "Enter your address:  tirupattur\n",
      "Enter your mobile number:  tirupattur\n"
     ]
    },
    {
     "name": "stdout",
     "output_type": "stream",
     "text": [
      "\n",
      "Select Room Type:\n",
      "1. Normal Room\n",
      "2. AC Room\n",
      "3. Suite Room\n"
     ]
    },
    {
     "name": "stdin",
     "output_type": "stream",
     "text": [
      "Enter room type (1/2/3):  1\n",
      "Enter the number of rooms:  2\n",
      "Enter the number of days:  3\n"
     ]
    },
    {
     "name": "stdout",
     "output_type": "stream",
     "text": [
      "\n",
      "--- Hotel Booking Details ---\n",
      "Name: hari\n",
      "Address: tirupattur\n",
      "Mobile Number: tirupattur\n",
      "Room Type: Normal Room\n",
      "Number of Rooms: 2\n",
      "Number of Days: 3\n",
      "Total Rent: 1500 INR\n"
     ]
    }
   ],
   "source": [
    "class NormalRoom:\n",
    "    def calculate(self, no_rooms, days):\n",
    "        if days == 1:\n",
    "            rent_per_room = 300\n",
    "        elif 1 < days <= 5:\n",
    "            rent_per_room = 250\n",
    "        else:\n",
    "            rent_per_room = 200\n",
    "        return no_rooms * days * rent_per_room\n",
    "\n",
    "\n",
    "class ACRoom:\n",
    "    def AC_calculate(self, no_rooms, days):\n",
    "        if days == 1:\n",
    "            rent_per_room = 450\n",
    "        elif 1 < days <= 5:\n",
    "            rent_per_room = 300\n",
    "        else:\n",
    "            rent_per_room = 250\n",
    "        return no_rooms * days * rent_per_room\n",
    "\n",
    "\n",
    "class SuiteRoom:\n",
    "    def suite_calculate(self, no_rooms, days):\n",
    "        if days == 1:\n",
    "            rent_per_room = 550\n",
    "        elif 1 < days <= 5:\n",
    "            rent_per_room = 500\n",
    "        else:\n",
    "            rent_per_room = 450\n",
    "        return no_rooms * days * rent_per_room\n",
    "\n",
    "\n",
    "class Hotel(NormalRoom, ACRoom, SuiteRoom):\n",
    "    def display(self, name, address, mobile_number):\n",
    "        print(\"\\n--- Hotel Booking Details ---\")\n",
    "        print(f\"Name: {name}\")\n",
    "        print(f\"Address: {address}\")\n",
    "        print(f\"Mobile Number: {mobile_number}\")\n",
    "\n",
    "\n",
    "if __name__ == \"__main__\":\n",
    "    \n",
    "    hotel = Hotel()\n",
    "    \n",
    "    \n",
    "    name = input(\"Enter your name: \")\n",
    "    address = input(\"Enter your address: \")\n",
    "    mobile_number = input(\"Enter your mobile number: \")\n",
    "    \n",
    "    \n",
    "    print(\"\\nSelect Room Type:\")\n",
    "    print(\"1. Normal Room\")\n",
    "    print(\"2. AC Room\")\n",
    "    print(\"3. Suite Room\")\n",
    "    \n",
    "    \n",
    "    room_type = int(input(\"Enter room type (1/2/3): \"))\n",
    "    no_rooms = int(input(\"Enter the number of rooms: \"))\n",
    "    days = int(input(\"Enter the number of days: \"))\n",
    "    \n",
    "   \n",
    "    if room_type == 1:\n",
    "        rent = hotel.calculate(no_rooms, days)\n",
    "        room_name = \"Normal Room\"\n",
    "    elif room_type == 2:\n",
    "        rent = hotel.AC_calculate(no_rooms, days)\n",
    "        room_name = \"AC Room\"\n",
    "    elif room_type == 3:\n",
    "        rent = hotel.suite_calculate(no_rooms, days)\n",
    "        room_name = \"Suite Room\"\n",
    "    else:\n",
    "        print(\"Invalid room type selected!\")\n",
    "        exit()\n",
    "    \n",
    "   \n",
    "    hotel.display(name, address, mobile_number)\n",
    "    print(f\"Room Type: {room_name}\")\n",
    "    print(f\"Number of Rooms: {no_rooms}\")\n",
    "    print(f\"Number of Days: {days}\")\n",
    "    print(f\"Total Rent: {rent} INR\")\n",
    "        "
   ]
  },
  {
   "cell_type": "code",
   "execution_count": 14,
   "id": "574690ba-48b3-42dc-b8e0-619462c804ff",
   "metadata": {},
   "outputs": [
    {
     "name": "stdin",
     "output_type": "stream",
     "text": [
      "Enter your name:  hari\n",
      "Enter your staff ID:  shf\n",
      "Enter the number of days worked:  30\n",
      "Enter the number of hours worked per day:  12\n"
     ]
    },
    {
     "name": "stdout",
     "output_type": "stream",
     "text": [
      "\n",
      "--- Temporary Staff Details ---\n",
      "Name: hari\n",
      "Staff ID: shf\n",
      "Days Worked: 30\n",
      "Hours Per Day: 12\n",
      "Total Salary Earned: 54000 INR\n"
     ]
    }
   ],
   "source": [
    "class Person:\n",
    "    def _init_(self, name):\n",
    "        self.name = name\n",
    "\n",
    "    def display(self):\n",
    "        print(f\"Name: {self.name}\")\n",
    "\n",
    "\n",
    "class Staff(Person):\n",
    "    def _init_(self, name, staff_id):\n",
    "        super()._init_(name)\n",
    "        self.staff_id = staff_id\n",
    "\n",
    "    def display(self):\n",
    "        super().display()\n",
    "        print(f\"Staff ID: {self.staff_id}\")\n",
    "\n",
    "\n",
    "class TemporaryStaff(Staff):\n",
    "    def __init__(self, name, staff_id, days_worked, hours_per_day):\n",
    "        super()._init_(name, staff_id)\n",
    "        self.days_worked = days_worked\n",
    "        self.hours_per_day = hours_per_day\n",
    "\n",
    "    def salary(self):\n",
    "        total_hours = self.days_worked * self.hours_per_day\n",
    "        total_salary = total_hours * 150\n",
    "        return total_salary\n",
    "\n",
    "    def display(self):\n",
    "        super().display()\n",
    "        print(f\"Days Worked: {self.days_worked}\")\n",
    "        print(f\"Hours Per Day: {self.hours_per_day}\")\n",
    "        print(f\"Total Salary Earned: {self.salary()} INR\")\n",
    "\n",
    "if __name__ == \"__main__\":\n",
    "    name = input(\"Enter your name: \")\n",
    "    staff_id = input(\"Enter your staff ID: \")\n",
    "    days_worked = int(input(\"Enter the number of days worked: \"))\n",
    "    hours_per_day = int(input(\"Enter the number of hours worked per day: \"))\n",
    "\n",
    "    temp_staff = TemporaryStaff(name, staff_id, days_worked, hours_per_day)\n",
    "    print(\"\\n--- Temporary Staff Details ---\")\n",
    "    temp_staff.display()"
   ]
  }
 ],
 "metadata": {
  "kernelspec": {
   "display_name": "Python 3 (ipykernel)",
   "language": "python",
   "name": "python3"
  },
  "language_info": {
   "codemirror_mode": {
    "name": "ipython",
    "version": 3
   },
   "file_extension": ".py",
   "mimetype": "text/x-python",
   "name": "python",
   "nbconvert_exporter": "python",
   "pygments_lexer": "ipython3",
   "version": "3.12.4"
  }
 },
 "nbformat": 4,
 "nbformat_minor": 5
}
